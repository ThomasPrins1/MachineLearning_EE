{
  "cells": [
    {
      "cell_type": "markdown",
      "id": "8973a6d7",
      "metadata": {
        "id": "8973a6d7"
      },
      "source": [
        "# Project Assignment - Image Classification Exploiting Sparsity"
      ]
    },
    {
      "cell_type": "code",
      "source": [
        "!git clone https://github.com/rapidsai/rapidsai-csp-utils.git\n",
        "!python rapidsai-csp-utils/colab/pip-install.py"
      ],
      "metadata": {
        "colab": {
          "base_uri": "https://localhost:8080/"
        },
        "id": "EZYB6fREXd5G",
        "outputId": "58b5b047-fe85-4999-9c2d-3281b9386bfd"
      },
      "id": "EZYB6fREXd5G",
      "execution_count": 1,
      "outputs": [
        {
          "output_type": "stream",
          "name": "stdout",
          "text": [
            "Cloning into 'rapidsai-csp-utils'...\n",
            "remote: Enumerating objects: 603, done.\u001b[K\n",
            "remote: Counting objects: 100% (169/169), done.\u001b[K\n",
            "remote: Compressing objects: 100% (87/87), done.\u001b[K\n",
            "remote: Total 603 (delta 131), reused 82 (delta 82), pack-reused 434 (from 3)\u001b[K\n",
            "Receiving objects: 100% (603/603), 199.38 KiB | 1.17 MiB/s, done.\n",
            "Resolving deltas: 100% (305/305), done.\n",
            "Installing RAPIDS remaining 25.08 libraries\n",
            "Using Python 3.12.12 environment at: /usr\n",
            "Resolved 180 packages in 2.07s\n",
            "Prepared 41 packages in 53.41s\n",
            "Uninstalled 31 packages in 938ms\n",
            "Installed 41 packages in 449ms\n",
            " - bokeh==3.7.3\n",
            " + bokeh==3.6.3\n",
            " + cucim-cu12==25.8.0\n",
            " + cuda-bindings==12.9.4\n",
            " + cuda-pathfinder==1.3.1\n",
            " - cuda-python==12.6.2.post1\n",
            " + cuda-python==12.9.4\n",
            " - cudf-cu12==25.6.0 (from https://pypi.nvidia.com/cudf-cu12/cudf_cu12-25.6.0-cp312-cp312-manylinux_2_24_x86_64.manylinux_2_28_x86_64.whl)\n",
            " + cudf-cu12==25.8.0\n",
            " + cugraph-cu12==25.8.0\n",
            " - cuml-cu12==25.6.0\n",
            " + cuml-cu12==25.8.0\n",
            " - cuvs-cu12==25.6.1\n",
            " + cuvs-cu12==25.8.0\n",
            " + cuxfilter-cu12==25.8.0\n",
            " - dask==2025.5.0\n",
            " + dask==2025.7.0\n",
            " - dask-cuda==25.6.0\n",
            " + dask-cuda==25.8.0\n",
            " - dask-cudf-cu12==25.6.0\n",
            " + dask-cudf-cu12==25.8.0\n",
            " + datashader==0.18.2\n",
            " - distributed==2025.5.0\n",
            " + distributed==2025.7.0\n",
            " - distributed-ucxx-cu12==0.44.0\n",
            " + distributed-ucxx-cu12==0.45.1\n",
            " - holoviews==1.21.0\n",
            " + holoviews==1.20.2\n",
            " + jupyter-server-proxy==4.4.0\n",
            " - libcudf-cu12==25.6.0 (from https://pypi.nvidia.com/libcudf-cu12/libcudf_cu12-25.6.0-py3-none-manylinux_2_28_x86_64.whl)\n",
            " + libcudf-cu12==25.8.0\n",
            " - libcugraph-cu12==25.6.0\n",
            " + libcugraph-cu12==25.8.0\n",
            " - libcuml-cu12==25.6.0\n",
            " + libcuml-cu12==25.8.0\n",
            " - libcuvs-cu12==25.6.1\n",
            " + libcuvs-cu12==25.8.0\n",
            " - libkvikio-cu12==25.6.0\n",
            " + libkvikio-cu12==25.8.0\n",
            " - libraft-cu12==25.6.0\n",
            " + libraft-cu12==25.8.0\n",
            " - librmm-cu12==25.6.0\n",
            " + librmm-cu12==25.8.0\n",
            " - libucxx-cu12==0.44.0\n",
            " + libucxx-cu12==0.45.1\n",
            " - numba-cuda==0.11.0\n",
            " + numba-cuda==0.14.1\n",
            " + nvidia-cuda-cccl-cu12==12.9.27\n",
            " - nx-cugraph-cu12==25.6.0 (from https://pypi.nvidia.com/nx-cugraph-cu12/nx_cugraph_cu12-25.6.0-py3-none-any.whl)\n",
            " + nx-cugraph-cu12==25.8.0\n",
            " - panel==1.8.2\n",
            " + panel==1.7.5\n",
            " + pyct==0.6.0\n",
            " - pylibcudf-cu12==25.6.0 (from https://pypi.nvidia.com/pylibcudf-cu12/pylibcudf_cu12-25.6.0-cp312-cp312-manylinux_2_24_x86_64.manylinux_2_28_x86_64.whl)\n",
            " + pylibcudf-cu12==25.8.0\n",
            " - pylibcugraph-cu12==25.6.0\n",
            " + pylibcugraph-cu12==25.8.0\n",
            " - pylibraft-cu12==25.6.0\n",
            " + pylibraft-cu12==25.8.0\n",
            " - raft-dask-cu12==25.6.0\n",
            " + raft-dask-cu12==25.8.0\n",
            " - rapids-dask-dependency==25.6.0\n",
            " + rapids-dask-dependency==25.8.0\n",
            " - rmm-cu12==25.6.0\n",
            " + rmm-cu12==25.8.0\n",
            " - shapely==2.1.2\n",
            " + shapely==2.0.7\n",
            " + simpervisor==1.0.0\n",
            " - ucx-py-cu12==0.44.0\n",
            " + ucx-py-cu12==0.45.0\n",
            " - ucxx-cu12==0.44.0\n",
            " + ucxx-cu12==0.45.1\n",
            "\n",
            "        ***********************************************************************\n",
            "        The pip install of RAPIDS is complete.\n",
            "\n",
            "        Please do not run any further installation from the conda based installation methods, as they may cause issues!\n",
            "\n",
            "        Please ensure that you're pulling from the git repo to remain updated with the latest working install scripts.\n",
            "\n",
            "        Troubleshooting:\n",
            "            - If there is an installation failure, please check back on RAPIDSAI owned templates/notebooks to see how to update your personal files.\n",
            "            - If an installation failure persists when using the latest script, please make an issue on https://github.com/rapidsai-community/rapidsai-csp-utils\n",
            "        ***********************************************************************\n",
            "        \n"
          ]
        }
      ]
    },
    {
      "cell_type": "code",
      "source": [
        "%load_ext cuml.accel"
      ],
      "metadata": {
        "id": "diRXGvSyX12d"
      },
      "id": "diRXGvSyX12d",
      "execution_count": 2,
      "outputs": []
    },
    {
      "cell_type": "code",
      "execution_count": 3,
      "id": "7aaaf1b9",
      "metadata": {
        "id": "7aaaf1b9"
      },
      "outputs": [],
      "source": [
        "import numpy as np\n",
        "import pandas as pd\n",
        "import matplotlib.pyplot as plt\n",
        "import seaborn as sn\n",
        "from sklearn import svm\n",
        "from sklearn.preprocessing import StandardScaler\n",
        "from sklearn.linear_model import LogisticRegression\n",
        "from sklearn.svm import LinearSVC\n",
        "from sklearn.ensemble import RandomForestClassifier\n",
        "from sklearn.neural_network import MLPClassifier\n",
        "from sklearn.metrics import f1_score, accuracy_score, roc_curve, precision_recall_curve, PrecisionRecallDisplay, roc_auc_score, RocCurveDisplay, confusion_matrix, precision_score, recall_score, ConfusionMatrixDisplay, classification_report\n",
        "from sklearn.model_selection import train_test_split, GridSearchCV\n",
        "from math import isclose\n",
        "from sklearn.metrics import mean_squared_error, r2_score"
      ]
    },
    {
      "cell_type": "markdown",
      "id": "f6817cfc",
      "metadata": {
        "id": "f6817cfc"
      },
      "source": [
        "## Data Preparation"
      ]
    },
    {
      "cell_type": "code",
      "execution_count": 4,
      "id": "b88ce906",
      "metadata": {
        "id": "b88ce906"
      },
      "outputs": [],
      "source": [
        "# reading data and converting to dataframe\n",
        "data = pd.read_csv('Project_Data_EE4C12_CE_IMG.csv', header=None)"
      ]
    },
    {
      "cell_type": "code",
      "execution_count": 5,
      "id": "7c5024fe",
      "metadata": {
        "colab": {
          "base_uri": "https://localhost:8080/",
          "height": 424
        },
        "id": "7c5024fe",
        "outputId": "ec585496-6e75-4216-f98c-9cd68e1c1e0b"
      },
      "outputs": [
        {
          "output_type": "execute_result",
          "data": {
            "text/plain": [
              "      0    1    2    3    4    5    6    7    8    9    ...  775  776  777  \\\n",
              "0       7    0    0    0    0    0    0    0    0    0  ...  0.0  0.0  0.0   \n",
              "1       2    0    0    0    0    0    0    0    0    0  ...  0.0  0.0  0.0   \n",
              "2       1    0    0    0    0    0    0    0    0    0  ...  0.0  0.0  0.0   \n",
              "3       0    0    0    0    0    0    0    0    0    0  ...  0.0  0.0  0.0   \n",
              "4       4    0    0    0    0    0    0    0    0    0  ...  0.0  0.0  0.0   \n",
              "...   ...  ...  ...  ...  ...  ...  ...  ...  ...  ...  ...  ...  ...  ...   \n",
              "8038    5    0    0    0    0    0    0    0    0    0  ...  0.0  0.0  0.0   \n",
              "8039    4    0    0    0    0    0    0    0    0    0  ...  0.0  0.0  0.0   \n",
              "8040    6    0    0    0    0    0    0    0    0    0  ...  0.0  0.0  0.0   \n",
              "8041    6    0    0    0    0    0    0    0    0    0  ...  0.0  0.0  0.0   \n",
              "8042    6    0    0    0    0    0    0    0    0    0  ...  NaN  NaN  NaN   \n",
              "\n",
              "      778  779  780  781  782  783  784  \n",
              "0     0.0  0.0  0.0  0.0  0.0  0.0  0.0  \n",
              "1     0.0  0.0  0.0  0.0  0.0  0.0  0.0  \n",
              "2     0.0  0.0  0.0  0.0  0.0  0.0  0.0  \n",
              "3     0.0  0.0  0.0  0.0  0.0  0.0  0.0  \n",
              "4     0.0  0.0  0.0  0.0  0.0  0.0  0.0  \n",
              "...   ...  ...  ...  ...  ...  ...  ...  \n",
              "8038  0.0  0.0  0.0  0.0  0.0  0.0  0.0  \n",
              "8039  0.0  0.0  0.0  0.0  0.0  0.0  0.0  \n",
              "8040  0.0  0.0  0.0  0.0  0.0  0.0  0.0  \n",
              "8041  0.0  0.0  0.0  0.0  0.0  0.0  0.0  \n",
              "8042  NaN  NaN  NaN  NaN  NaN  NaN  NaN  \n",
              "\n",
              "[8043 rows x 785 columns]"
            ],
            "text/html": [
              "\n",
              "  <div id=\"df-50474de3-37f9-4efc-98b8-b73297d8195f\" class=\"colab-df-container\">\n",
              "    <div>\n",
              "<style scoped>\n",
              "    .dataframe tbody tr th:only-of-type {\n",
              "        vertical-align: middle;\n",
              "    }\n",
              "\n",
              "    .dataframe tbody tr th {\n",
              "        vertical-align: top;\n",
              "    }\n",
              "\n",
              "    .dataframe thead th {\n",
              "        text-align: right;\n",
              "    }\n",
              "</style>\n",
              "<table border=\"1\" class=\"dataframe\">\n",
              "  <thead>\n",
              "    <tr style=\"text-align: right;\">\n",
              "      <th></th>\n",
              "      <th>0</th>\n",
              "      <th>1</th>\n",
              "      <th>2</th>\n",
              "      <th>3</th>\n",
              "      <th>4</th>\n",
              "      <th>5</th>\n",
              "      <th>6</th>\n",
              "      <th>7</th>\n",
              "      <th>8</th>\n",
              "      <th>9</th>\n",
              "      <th>...</th>\n",
              "      <th>775</th>\n",
              "      <th>776</th>\n",
              "      <th>777</th>\n",
              "      <th>778</th>\n",
              "      <th>779</th>\n",
              "      <th>780</th>\n",
              "      <th>781</th>\n",
              "      <th>782</th>\n",
              "      <th>783</th>\n",
              "      <th>784</th>\n",
              "    </tr>\n",
              "  </thead>\n",
              "  <tbody>\n",
              "    <tr>\n",
              "      <th>0</th>\n",
              "      <td>7</td>\n",
              "      <td>0</td>\n",
              "      <td>0</td>\n",
              "      <td>0</td>\n",
              "      <td>0</td>\n",
              "      <td>0</td>\n",
              "      <td>0</td>\n",
              "      <td>0</td>\n",
              "      <td>0</td>\n",
              "      <td>0</td>\n",
              "      <td>...</td>\n",
              "      <td>0.0</td>\n",
              "      <td>0.0</td>\n",
              "      <td>0.0</td>\n",
              "      <td>0.0</td>\n",
              "      <td>0.0</td>\n",
              "      <td>0.0</td>\n",
              "      <td>0.0</td>\n",
              "      <td>0.0</td>\n",
              "      <td>0.0</td>\n",
              "      <td>0.0</td>\n",
              "    </tr>\n",
              "    <tr>\n",
              "      <th>1</th>\n",
              "      <td>2</td>\n",
              "      <td>0</td>\n",
              "      <td>0</td>\n",
              "      <td>0</td>\n",
              "      <td>0</td>\n",
              "      <td>0</td>\n",
              "      <td>0</td>\n",
              "      <td>0</td>\n",
              "      <td>0</td>\n",
              "      <td>0</td>\n",
              "      <td>...</td>\n",
              "      <td>0.0</td>\n",
              "      <td>0.0</td>\n",
              "      <td>0.0</td>\n",
              "      <td>0.0</td>\n",
              "      <td>0.0</td>\n",
              "      <td>0.0</td>\n",
              "      <td>0.0</td>\n",
              "      <td>0.0</td>\n",
              "      <td>0.0</td>\n",
              "      <td>0.0</td>\n",
              "    </tr>\n",
              "    <tr>\n",
              "      <th>2</th>\n",
              "      <td>1</td>\n",
              "      <td>0</td>\n",
              "      <td>0</td>\n",
              "      <td>0</td>\n",
              "      <td>0</td>\n",
              "      <td>0</td>\n",
              "      <td>0</td>\n",
              "      <td>0</td>\n",
              "      <td>0</td>\n",
              "      <td>0</td>\n",
              "      <td>...</td>\n",
              "      <td>0.0</td>\n",
              "      <td>0.0</td>\n",
              "      <td>0.0</td>\n",
              "      <td>0.0</td>\n",
              "      <td>0.0</td>\n",
              "      <td>0.0</td>\n",
              "      <td>0.0</td>\n",
              "      <td>0.0</td>\n",
              "      <td>0.0</td>\n",
              "      <td>0.0</td>\n",
              "    </tr>\n",
              "    <tr>\n",
              "      <th>3</th>\n",
              "      <td>0</td>\n",
              "      <td>0</td>\n",
              "      <td>0</td>\n",
              "      <td>0</td>\n",
              "      <td>0</td>\n",
              "      <td>0</td>\n",
              "      <td>0</td>\n",
              "      <td>0</td>\n",
              "      <td>0</td>\n",
              "      <td>0</td>\n",
              "      <td>...</td>\n",
              "      <td>0.0</td>\n",
              "      <td>0.0</td>\n",
              "      <td>0.0</td>\n",
              "      <td>0.0</td>\n",
              "      <td>0.0</td>\n",
              "      <td>0.0</td>\n",
              "      <td>0.0</td>\n",
              "      <td>0.0</td>\n",
              "      <td>0.0</td>\n",
              "      <td>0.0</td>\n",
              "    </tr>\n",
              "    <tr>\n",
              "      <th>4</th>\n",
              "      <td>4</td>\n",
              "      <td>0</td>\n",
              "      <td>0</td>\n",
              "      <td>0</td>\n",
              "      <td>0</td>\n",
              "      <td>0</td>\n",
              "      <td>0</td>\n",
              "      <td>0</td>\n",
              "      <td>0</td>\n",
              "      <td>0</td>\n",
              "      <td>...</td>\n",
              "      <td>0.0</td>\n",
              "      <td>0.0</td>\n",
              "      <td>0.0</td>\n",
              "      <td>0.0</td>\n",
              "      <td>0.0</td>\n",
              "      <td>0.0</td>\n",
              "      <td>0.0</td>\n",
              "      <td>0.0</td>\n",
              "      <td>0.0</td>\n",
              "      <td>0.0</td>\n",
              "    </tr>\n",
              "    <tr>\n",
              "      <th>...</th>\n",
              "      <td>...</td>\n",
              "      <td>...</td>\n",
              "      <td>...</td>\n",
              "      <td>...</td>\n",
              "      <td>...</td>\n",
              "      <td>...</td>\n",
              "      <td>...</td>\n",
              "      <td>...</td>\n",
              "      <td>...</td>\n",
              "      <td>...</td>\n",
              "      <td>...</td>\n",
              "      <td>...</td>\n",
              "      <td>...</td>\n",
              "      <td>...</td>\n",
              "      <td>...</td>\n",
              "      <td>...</td>\n",
              "      <td>...</td>\n",
              "      <td>...</td>\n",
              "      <td>...</td>\n",
              "      <td>...</td>\n",
              "      <td>...</td>\n",
              "    </tr>\n",
              "    <tr>\n",
              "      <th>8038</th>\n",
              "      <td>5</td>\n",
              "      <td>0</td>\n",
              "      <td>0</td>\n",
              "      <td>0</td>\n",
              "      <td>0</td>\n",
              "      <td>0</td>\n",
              "      <td>0</td>\n",
              "      <td>0</td>\n",
              "      <td>0</td>\n",
              "      <td>0</td>\n",
              "      <td>...</td>\n",
              "      <td>0.0</td>\n",
              "      <td>0.0</td>\n",
              "      <td>0.0</td>\n",
              "      <td>0.0</td>\n",
              "      <td>0.0</td>\n",
              "      <td>0.0</td>\n",
              "      <td>0.0</td>\n",
              "      <td>0.0</td>\n",
              "      <td>0.0</td>\n",
              "      <td>0.0</td>\n",
              "    </tr>\n",
              "    <tr>\n",
              "      <th>8039</th>\n",
              "      <td>4</td>\n",
              "      <td>0</td>\n",
              "      <td>0</td>\n",
              "      <td>0</td>\n",
              "      <td>0</td>\n",
              "      <td>0</td>\n",
              "      <td>0</td>\n",
              "      <td>0</td>\n",
              "      <td>0</td>\n",
              "      <td>0</td>\n",
              "      <td>...</td>\n",
              "      <td>0.0</td>\n",
              "      <td>0.0</td>\n",
              "      <td>0.0</td>\n",
              "      <td>0.0</td>\n",
              "      <td>0.0</td>\n",
              "      <td>0.0</td>\n",
              "      <td>0.0</td>\n",
              "      <td>0.0</td>\n",
              "      <td>0.0</td>\n",
              "      <td>0.0</td>\n",
              "    </tr>\n",
              "    <tr>\n",
              "      <th>8040</th>\n",
              "      <td>6</td>\n",
              "      <td>0</td>\n",
              "      <td>0</td>\n",
              "      <td>0</td>\n",
              "      <td>0</td>\n",
              "      <td>0</td>\n",
              "      <td>0</td>\n",
              "      <td>0</td>\n",
              "      <td>0</td>\n",
              "      <td>0</td>\n",
              "      <td>...</td>\n",
              "      <td>0.0</td>\n",
              "      <td>0.0</td>\n",
              "      <td>0.0</td>\n",
              "      <td>0.0</td>\n",
              "      <td>0.0</td>\n",
              "      <td>0.0</td>\n",
              "      <td>0.0</td>\n",
              "      <td>0.0</td>\n",
              "      <td>0.0</td>\n",
              "      <td>0.0</td>\n",
              "    </tr>\n",
              "    <tr>\n",
              "      <th>8041</th>\n",
              "      <td>6</td>\n",
              "      <td>0</td>\n",
              "      <td>0</td>\n",
              "      <td>0</td>\n",
              "      <td>0</td>\n",
              "      <td>0</td>\n",
              "      <td>0</td>\n",
              "      <td>0</td>\n",
              "      <td>0</td>\n",
              "      <td>0</td>\n",
              "      <td>...</td>\n",
              "      <td>0.0</td>\n",
              "      <td>0.0</td>\n",
              "      <td>0.0</td>\n",
              "      <td>0.0</td>\n",
              "      <td>0.0</td>\n",
              "      <td>0.0</td>\n",
              "      <td>0.0</td>\n",
              "      <td>0.0</td>\n",
              "      <td>0.0</td>\n",
              "      <td>0.0</td>\n",
              "    </tr>\n",
              "    <tr>\n",
              "      <th>8042</th>\n",
              "      <td>6</td>\n",
              "      <td>0</td>\n",
              "      <td>0</td>\n",
              "      <td>0</td>\n",
              "      <td>0</td>\n",
              "      <td>0</td>\n",
              "      <td>0</td>\n",
              "      <td>0</td>\n",
              "      <td>0</td>\n",
              "      <td>0</td>\n",
              "      <td>...</td>\n",
              "      <td>NaN</td>\n",
              "      <td>NaN</td>\n",
              "      <td>NaN</td>\n",
              "      <td>NaN</td>\n",
              "      <td>NaN</td>\n",
              "      <td>NaN</td>\n",
              "      <td>NaN</td>\n",
              "      <td>NaN</td>\n",
              "      <td>NaN</td>\n",
              "      <td>NaN</td>\n",
              "    </tr>\n",
              "  </tbody>\n",
              "</table>\n",
              "<p>8043 rows × 785 columns</p>\n",
              "</div>\n",
              "    <div class=\"colab-df-buttons\">\n",
              "\n",
              "  <div class=\"colab-df-container\">\n",
              "    <button class=\"colab-df-convert\" onclick=\"convertToInteractive('df-50474de3-37f9-4efc-98b8-b73297d8195f')\"\n",
              "            title=\"Convert this dataframe to an interactive table.\"\n",
              "            style=\"display:none;\">\n",
              "\n",
              "  <svg xmlns=\"http://www.w3.org/2000/svg\" height=\"24px\" viewBox=\"0 -960 960 960\">\n",
              "    <path d=\"M120-120v-720h720v720H120Zm60-500h600v-160H180v160Zm220 220h160v-160H400v160Zm0 220h160v-160H400v160ZM180-400h160v-160H180v160Zm440 0h160v-160H620v160ZM180-180h160v-160H180v160Zm440 0h160v-160H620v160Z\"/>\n",
              "  </svg>\n",
              "    </button>\n",
              "\n",
              "  <style>\n",
              "    .colab-df-container {\n",
              "      display:flex;\n",
              "      gap: 12px;\n",
              "    }\n",
              "\n",
              "    .colab-df-convert {\n",
              "      background-color: #E8F0FE;\n",
              "      border: none;\n",
              "      border-radius: 50%;\n",
              "      cursor: pointer;\n",
              "      display: none;\n",
              "      fill: #1967D2;\n",
              "      height: 32px;\n",
              "      padding: 0 0 0 0;\n",
              "      width: 32px;\n",
              "    }\n",
              "\n",
              "    .colab-df-convert:hover {\n",
              "      background-color: #E2EBFA;\n",
              "      box-shadow: 0px 1px 2px rgba(60, 64, 67, 0.3), 0px 1px 3px 1px rgba(60, 64, 67, 0.15);\n",
              "      fill: #174EA6;\n",
              "    }\n",
              "\n",
              "    .colab-df-buttons div {\n",
              "      margin-bottom: 4px;\n",
              "    }\n",
              "\n",
              "    [theme=dark] .colab-df-convert {\n",
              "      background-color: #3B4455;\n",
              "      fill: #D2E3FC;\n",
              "    }\n",
              "\n",
              "    [theme=dark] .colab-df-convert:hover {\n",
              "      background-color: #434B5C;\n",
              "      box-shadow: 0px 1px 3px 1px rgba(0, 0, 0, 0.15);\n",
              "      filter: drop-shadow(0px 1px 2px rgba(0, 0, 0, 0.3));\n",
              "      fill: #FFFFFF;\n",
              "    }\n",
              "  </style>\n",
              "\n",
              "    <script>\n",
              "      const buttonEl =\n",
              "        document.querySelector('#df-50474de3-37f9-4efc-98b8-b73297d8195f button.colab-df-convert');\n",
              "      buttonEl.style.display =\n",
              "        google.colab.kernel.accessAllowed ? 'block' : 'none';\n",
              "\n",
              "      async function convertToInteractive(key) {\n",
              "        const element = document.querySelector('#df-50474de3-37f9-4efc-98b8-b73297d8195f');\n",
              "        const dataTable =\n",
              "          await google.colab.kernel.invokeFunction('convertToInteractive',\n",
              "                                                    [key], {});\n",
              "        if (!dataTable) return;\n",
              "\n",
              "        const docLinkHtml = 'Like what you see? Visit the ' +\n",
              "          '<a target=\"_blank\" href=https://colab.research.google.com/notebooks/data_table.ipynb>data table notebook</a>'\n",
              "          + ' to learn more about interactive tables.';\n",
              "        element.innerHTML = '';\n",
              "        dataTable['output_type'] = 'display_data';\n",
              "        await google.colab.output.renderOutput(dataTable, element);\n",
              "        const docLink = document.createElement('div');\n",
              "        docLink.innerHTML = docLinkHtml;\n",
              "        element.appendChild(docLink);\n",
              "      }\n",
              "    </script>\n",
              "  </div>\n",
              "\n",
              "\n",
              "    <div id=\"df-31c59ea4-9e87-49a1-8159-6a30b888c64b\">\n",
              "      <button class=\"colab-df-quickchart\" onclick=\"quickchart('df-31c59ea4-9e87-49a1-8159-6a30b888c64b')\"\n",
              "                title=\"Suggest charts\"\n",
              "                style=\"display:none;\">\n",
              "\n",
              "<svg xmlns=\"http://www.w3.org/2000/svg\" height=\"24px\"viewBox=\"0 0 24 24\"\n",
              "     width=\"24px\">\n",
              "    <g>\n",
              "        <path d=\"M19 3H5c-1.1 0-2 .9-2 2v14c0 1.1.9 2 2 2h14c1.1 0 2-.9 2-2V5c0-1.1-.9-2-2-2zM9 17H7v-7h2v7zm4 0h-2V7h2v10zm4 0h-2v-4h2v4z\"/>\n",
              "    </g>\n",
              "</svg>\n",
              "      </button>\n",
              "\n",
              "<style>\n",
              "  .colab-df-quickchart {\n",
              "      --bg-color: #E8F0FE;\n",
              "      --fill-color: #1967D2;\n",
              "      --hover-bg-color: #E2EBFA;\n",
              "      --hover-fill-color: #174EA6;\n",
              "      --disabled-fill-color: #AAA;\n",
              "      --disabled-bg-color: #DDD;\n",
              "  }\n",
              "\n",
              "  [theme=dark] .colab-df-quickchart {\n",
              "      --bg-color: #3B4455;\n",
              "      --fill-color: #D2E3FC;\n",
              "      --hover-bg-color: #434B5C;\n",
              "      --hover-fill-color: #FFFFFF;\n",
              "      --disabled-bg-color: #3B4455;\n",
              "      --disabled-fill-color: #666;\n",
              "  }\n",
              "\n",
              "  .colab-df-quickchart {\n",
              "    background-color: var(--bg-color);\n",
              "    border: none;\n",
              "    border-radius: 50%;\n",
              "    cursor: pointer;\n",
              "    display: none;\n",
              "    fill: var(--fill-color);\n",
              "    height: 32px;\n",
              "    padding: 0;\n",
              "    width: 32px;\n",
              "  }\n",
              "\n",
              "  .colab-df-quickchart:hover {\n",
              "    background-color: var(--hover-bg-color);\n",
              "    box-shadow: 0 1px 2px rgba(60, 64, 67, 0.3), 0 1px 3px 1px rgba(60, 64, 67, 0.15);\n",
              "    fill: var(--button-hover-fill-color);\n",
              "  }\n",
              "\n",
              "  .colab-df-quickchart-complete:disabled,\n",
              "  .colab-df-quickchart-complete:disabled:hover {\n",
              "    background-color: var(--disabled-bg-color);\n",
              "    fill: var(--disabled-fill-color);\n",
              "    box-shadow: none;\n",
              "  }\n",
              "\n",
              "  .colab-df-spinner {\n",
              "    border: 2px solid var(--fill-color);\n",
              "    border-color: transparent;\n",
              "    border-bottom-color: var(--fill-color);\n",
              "    animation:\n",
              "      spin 1s steps(1) infinite;\n",
              "  }\n",
              "\n",
              "  @keyframes spin {\n",
              "    0% {\n",
              "      border-color: transparent;\n",
              "      border-bottom-color: var(--fill-color);\n",
              "      border-left-color: var(--fill-color);\n",
              "    }\n",
              "    20% {\n",
              "      border-color: transparent;\n",
              "      border-left-color: var(--fill-color);\n",
              "      border-top-color: var(--fill-color);\n",
              "    }\n",
              "    30% {\n",
              "      border-color: transparent;\n",
              "      border-left-color: var(--fill-color);\n",
              "      border-top-color: var(--fill-color);\n",
              "      border-right-color: var(--fill-color);\n",
              "    }\n",
              "    40% {\n",
              "      border-color: transparent;\n",
              "      border-right-color: var(--fill-color);\n",
              "      border-top-color: var(--fill-color);\n",
              "    }\n",
              "    60% {\n",
              "      border-color: transparent;\n",
              "      border-right-color: var(--fill-color);\n",
              "    }\n",
              "    80% {\n",
              "      border-color: transparent;\n",
              "      border-right-color: var(--fill-color);\n",
              "      border-bottom-color: var(--fill-color);\n",
              "    }\n",
              "    90% {\n",
              "      border-color: transparent;\n",
              "      border-bottom-color: var(--fill-color);\n",
              "    }\n",
              "  }\n",
              "</style>\n",
              "\n",
              "      <script>\n",
              "        async function quickchart(key) {\n",
              "          const quickchartButtonEl =\n",
              "            document.querySelector('#' + key + ' button');\n",
              "          quickchartButtonEl.disabled = true;  // To prevent multiple clicks.\n",
              "          quickchartButtonEl.classList.add('colab-df-spinner');\n",
              "          try {\n",
              "            const charts = await google.colab.kernel.invokeFunction(\n",
              "                'suggestCharts', [key], {});\n",
              "          } catch (error) {\n",
              "            console.error('Error during call to suggestCharts:', error);\n",
              "          }\n",
              "          quickchartButtonEl.classList.remove('colab-df-spinner');\n",
              "          quickchartButtonEl.classList.add('colab-df-quickchart-complete');\n",
              "        }\n",
              "        (() => {\n",
              "          let quickchartButtonEl =\n",
              "            document.querySelector('#df-31c59ea4-9e87-49a1-8159-6a30b888c64b button');\n",
              "          quickchartButtonEl.style.display =\n",
              "            google.colab.kernel.accessAllowed ? 'block' : 'none';\n",
              "        })();\n",
              "      </script>\n",
              "    </div>\n",
              "\n",
              "  <div id=\"id_a8b611a5-5a1c-43db-9f7a-06c40a792e1e\">\n",
              "    <style>\n",
              "      .colab-df-generate {\n",
              "        background-color: #E8F0FE;\n",
              "        border: none;\n",
              "        border-radius: 50%;\n",
              "        cursor: pointer;\n",
              "        display: none;\n",
              "        fill: #1967D2;\n",
              "        height: 32px;\n",
              "        padding: 0 0 0 0;\n",
              "        width: 32px;\n",
              "      }\n",
              "\n",
              "      .colab-df-generate:hover {\n",
              "        background-color: #E2EBFA;\n",
              "        box-shadow: 0px 1px 2px rgba(60, 64, 67, 0.3), 0px 1px 3px 1px rgba(60, 64, 67, 0.15);\n",
              "        fill: #174EA6;\n",
              "      }\n",
              "\n",
              "      [theme=dark] .colab-df-generate {\n",
              "        background-color: #3B4455;\n",
              "        fill: #D2E3FC;\n",
              "      }\n",
              "\n",
              "      [theme=dark] .colab-df-generate:hover {\n",
              "        background-color: #434B5C;\n",
              "        box-shadow: 0px 1px 3px 1px rgba(0, 0, 0, 0.15);\n",
              "        filter: drop-shadow(0px 1px 2px rgba(0, 0, 0, 0.3));\n",
              "        fill: #FFFFFF;\n",
              "      }\n",
              "    </style>\n",
              "    <button class=\"colab-df-generate\" onclick=\"generateWithVariable('data')\"\n",
              "            title=\"Generate code using this dataframe.\"\n",
              "            style=\"display:none;\">\n",
              "\n",
              "  <svg xmlns=\"http://www.w3.org/2000/svg\" height=\"24px\"viewBox=\"0 0 24 24\"\n",
              "       width=\"24px\">\n",
              "    <path d=\"M7,19H8.4L18.45,9,17,7.55,7,17.6ZM5,21V16.75L18.45,3.32a2,2,0,0,1,2.83,0l1.4,1.43a1.91,1.91,0,0,1,.58,1.4,1.91,1.91,0,0,1-.58,1.4L9.25,21ZM18.45,9,17,7.55Zm-12,3A5.31,5.31,0,0,0,4.9,8.1,5.31,5.31,0,0,0,1,6.5,5.31,5.31,0,0,0,4.9,4.9,5.31,5.31,0,0,0,6.5,1,5.31,5.31,0,0,0,8.1,4.9,5.31,5.31,0,0,0,12,6.5,5.46,5.46,0,0,0,6.5,12Z\"/>\n",
              "  </svg>\n",
              "    </button>\n",
              "    <script>\n",
              "      (() => {\n",
              "      const buttonEl =\n",
              "        document.querySelector('#id_a8b611a5-5a1c-43db-9f7a-06c40a792e1e button.colab-df-generate');\n",
              "      buttonEl.style.display =\n",
              "        google.colab.kernel.accessAllowed ? 'block' : 'none';\n",
              "\n",
              "      buttonEl.onclick = () => {\n",
              "        google.colab.notebook.generateWithVariable('data');\n",
              "      }\n",
              "      })();\n",
              "    </script>\n",
              "  </div>\n",
              "\n",
              "    </div>\n",
              "  </div>\n"
            ],
            "application/vnd.google.colaboratory.intrinsic+json": {
              "type": "dataframe",
              "variable_name": "data"
            }
          },
          "metadata": {},
          "execution_count": 5
        }
      ],
      "source": [
        "data"
      ]
    },
    {
      "cell_type": "code",
      "execution_count": 6,
      "id": "97a2489f",
      "metadata": {
        "id": "97a2489f"
      },
      "outputs": [],
      "source": [
        "# dropping row with missing values\n",
        "data.drop([8042], inplace=True)"
      ]
    },
    {
      "cell_type": "code",
      "execution_count": 7,
      "id": "498f048b",
      "metadata": {
        "colab": {
          "base_uri": "https://localhost:8080/",
          "height": 424
        },
        "id": "498f048b",
        "outputId": "d4fbdc05-fd45-4a58-92c1-a86782c00eef"
      },
      "outputs": [
        {
          "output_type": "execute_result",
          "data": {
            "text/plain": [
              "      0    1    2    3    4    5    6    7    8    9    ...  775  776  777  \\\n",
              "0       7    0    0    0    0    0    0    0    0    0  ...  0.0  0.0  0.0   \n",
              "1       2    0    0    0    0    0    0    0    0    0  ...  0.0  0.0  0.0   \n",
              "2       1    0    0    0    0    0    0    0    0    0  ...  0.0  0.0  0.0   \n",
              "3       0    0    0    0    0    0    0    0    0    0  ...  0.0  0.0  0.0   \n",
              "4       4    0    0    0    0    0    0    0    0    0  ...  0.0  0.0  0.0   \n",
              "...   ...  ...  ...  ...  ...  ...  ...  ...  ...  ...  ...  ...  ...  ...   \n",
              "8037    8    0    0    0    0    0    0    0    0    0  ...  0.0  0.0  0.0   \n",
              "8038    5    0    0    0    0    0    0    0    0    0  ...  0.0  0.0  0.0   \n",
              "8039    4    0    0    0    0    0    0    0    0    0  ...  0.0  0.0  0.0   \n",
              "8040    6    0    0    0    0    0    0    0    0    0  ...  0.0  0.0  0.0   \n",
              "8041    6    0    0    0    0    0    0    0    0    0  ...  0.0  0.0  0.0   \n",
              "\n",
              "      778  779  780  781  782  783  784  \n",
              "0     0.0  0.0  0.0  0.0  0.0  0.0  0.0  \n",
              "1     0.0  0.0  0.0  0.0  0.0  0.0  0.0  \n",
              "2     0.0  0.0  0.0  0.0  0.0  0.0  0.0  \n",
              "3     0.0  0.0  0.0  0.0  0.0  0.0  0.0  \n",
              "4     0.0  0.0  0.0  0.0  0.0  0.0  0.0  \n",
              "...   ...  ...  ...  ...  ...  ...  ...  \n",
              "8037  0.0  0.0  0.0  0.0  0.0  0.0  0.0  \n",
              "8038  0.0  0.0  0.0  0.0  0.0  0.0  0.0  \n",
              "8039  0.0  0.0  0.0  0.0  0.0  0.0  0.0  \n",
              "8040  0.0  0.0  0.0  0.0  0.0  0.0  0.0  \n",
              "8041  0.0  0.0  0.0  0.0  0.0  0.0  0.0  \n",
              "\n",
              "[8042 rows x 785 columns]"
            ],
            "text/html": [
              "\n",
              "  <div id=\"df-2e251a39-957a-4964-8a3c-489f4ef381cc\" class=\"colab-df-container\">\n",
              "    <div>\n",
              "<style scoped>\n",
              "    .dataframe tbody tr th:only-of-type {\n",
              "        vertical-align: middle;\n",
              "    }\n",
              "\n",
              "    .dataframe tbody tr th {\n",
              "        vertical-align: top;\n",
              "    }\n",
              "\n",
              "    .dataframe thead th {\n",
              "        text-align: right;\n",
              "    }\n",
              "</style>\n",
              "<table border=\"1\" class=\"dataframe\">\n",
              "  <thead>\n",
              "    <tr style=\"text-align: right;\">\n",
              "      <th></th>\n",
              "      <th>0</th>\n",
              "      <th>1</th>\n",
              "      <th>2</th>\n",
              "      <th>3</th>\n",
              "      <th>4</th>\n",
              "      <th>5</th>\n",
              "      <th>6</th>\n",
              "      <th>7</th>\n",
              "      <th>8</th>\n",
              "      <th>9</th>\n",
              "      <th>...</th>\n",
              "      <th>775</th>\n",
              "      <th>776</th>\n",
              "      <th>777</th>\n",
              "      <th>778</th>\n",
              "      <th>779</th>\n",
              "      <th>780</th>\n",
              "      <th>781</th>\n",
              "      <th>782</th>\n",
              "      <th>783</th>\n",
              "      <th>784</th>\n",
              "    </tr>\n",
              "  </thead>\n",
              "  <tbody>\n",
              "    <tr>\n",
              "      <th>0</th>\n",
              "      <td>7</td>\n",
              "      <td>0</td>\n",
              "      <td>0</td>\n",
              "      <td>0</td>\n",
              "      <td>0</td>\n",
              "      <td>0</td>\n",
              "      <td>0</td>\n",
              "      <td>0</td>\n",
              "      <td>0</td>\n",
              "      <td>0</td>\n",
              "      <td>...</td>\n",
              "      <td>0.0</td>\n",
              "      <td>0.0</td>\n",
              "      <td>0.0</td>\n",
              "      <td>0.0</td>\n",
              "      <td>0.0</td>\n",
              "      <td>0.0</td>\n",
              "      <td>0.0</td>\n",
              "      <td>0.0</td>\n",
              "      <td>0.0</td>\n",
              "      <td>0.0</td>\n",
              "    </tr>\n",
              "    <tr>\n",
              "      <th>1</th>\n",
              "      <td>2</td>\n",
              "      <td>0</td>\n",
              "      <td>0</td>\n",
              "      <td>0</td>\n",
              "      <td>0</td>\n",
              "      <td>0</td>\n",
              "      <td>0</td>\n",
              "      <td>0</td>\n",
              "      <td>0</td>\n",
              "      <td>0</td>\n",
              "      <td>...</td>\n",
              "      <td>0.0</td>\n",
              "      <td>0.0</td>\n",
              "      <td>0.0</td>\n",
              "      <td>0.0</td>\n",
              "      <td>0.0</td>\n",
              "      <td>0.0</td>\n",
              "      <td>0.0</td>\n",
              "      <td>0.0</td>\n",
              "      <td>0.0</td>\n",
              "      <td>0.0</td>\n",
              "    </tr>\n",
              "    <tr>\n",
              "      <th>2</th>\n",
              "      <td>1</td>\n",
              "      <td>0</td>\n",
              "      <td>0</td>\n",
              "      <td>0</td>\n",
              "      <td>0</td>\n",
              "      <td>0</td>\n",
              "      <td>0</td>\n",
              "      <td>0</td>\n",
              "      <td>0</td>\n",
              "      <td>0</td>\n",
              "      <td>...</td>\n",
              "      <td>0.0</td>\n",
              "      <td>0.0</td>\n",
              "      <td>0.0</td>\n",
              "      <td>0.0</td>\n",
              "      <td>0.0</td>\n",
              "      <td>0.0</td>\n",
              "      <td>0.0</td>\n",
              "      <td>0.0</td>\n",
              "      <td>0.0</td>\n",
              "      <td>0.0</td>\n",
              "    </tr>\n",
              "    <tr>\n",
              "      <th>3</th>\n",
              "      <td>0</td>\n",
              "      <td>0</td>\n",
              "      <td>0</td>\n",
              "      <td>0</td>\n",
              "      <td>0</td>\n",
              "      <td>0</td>\n",
              "      <td>0</td>\n",
              "      <td>0</td>\n",
              "      <td>0</td>\n",
              "      <td>0</td>\n",
              "      <td>...</td>\n",
              "      <td>0.0</td>\n",
              "      <td>0.0</td>\n",
              "      <td>0.0</td>\n",
              "      <td>0.0</td>\n",
              "      <td>0.0</td>\n",
              "      <td>0.0</td>\n",
              "      <td>0.0</td>\n",
              "      <td>0.0</td>\n",
              "      <td>0.0</td>\n",
              "      <td>0.0</td>\n",
              "    </tr>\n",
              "    <tr>\n",
              "      <th>4</th>\n",
              "      <td>4</td>\n",
              "      <td>0</td>\n",
              "      <td>0</td>\n",
              "      <td>0</td>\n",
              "      <td>0</td>\n",
              "      <td>0</td>\n",
              "      <td>0</td>\n",
              "      <td>0</td>\n",
              "      <td>0</td>\n",
              "      <td>0</td>\n",
              "      <td>...</td>\n",
              "      <td>0.0</td>\n",
              "      <td>0.0</td>\n",
              "      <td>0.0</td>\n",
              "      <td>0.0</td>\n",
              "      <td>0.0</td>\n",
              "      <td>0.0</td>\n",
              "      <td>0.0</td>\n",
              "      <td>0.0</td>\n",
              "      <td>0.0</td>\n",
              "      <td>0.0</td>\n",
              "    </tr>\n",
              "    <tr>\n",
              "      <th>...</th>\n",
              "      <td>...</td>\n",
              "      <td>...</td>\n",
              "      <td>...</td>\n",
              "      <td>...</td>\n",
              "      <td>...</td>\n",
              "      <td>...</td>\n",
              "      <td>...</td>\n",
              "      <td>...</td>\n",
              "      <td>...</td>\n",
              "      <td>...</td>\n",
              "      <td>...</td>\n",
              "      <td>...</td>\n",
              "      <td>...</td>\n",
              "      <td>...</td>\n",
              "      <td>...</td>\n",
              "      <td>...</td>\n",
              "      <td>...</td>\n",
              "      <td>...</td>\n",
              "      <td>...</td>\n",
              "      <td>...</td>\n",
              "      <td>...</td>\n",
              "    </tr>\n",
              "    <tr>\n",
              "      <th>8037</th>\n",
              "      <td>8</td>\n",
              "      <td>0</td>\n",
              "      <td>0</td>\n",
              "      <td>0</td>\n",
              "      <td>0</td>\n",
              "      <td>0</td>\n",
              "      <td>0</td>\n",
              "      <td>0</td>\n",
              "      <td>0</td>\n",
              "      <td>0</td>\n",
              "      <td>...</td>\n",
              "      <td>0.0</td>\n",
              "      <td>0.0</td>\n",
              "      <td>0.0</td>\n",
              "      <td>0.0</td>\n",
              "      <td>0.0</td>\n",
              "      <td>0.0</td>\n",
              "      <td>0.0</td>\n",
              "      <td>0.0</td>\n",
              "      <td>0.0</td>\n",
              "      <td>0.0</td>\n",
              "    </tr>\n",
              "    <tr>\n",
              "      <th>8038</th>\n",
              "      <td>5</td>\n",
              "      <td>0</td>\n",
              "      <td>0</td>\n",
              "      <td>0</td>\n",
              "      <td>0</td>\n",
              "      <td>0</td>\n",
              "      <td>0</td>\n",
              "      <td>0</td>\n",
              "      <td>0</td>\n",
              "      <td>0</td>\n",
              "      <td>...</td>\n",
              "      <td>0.0</td>\n",
              "      <td>0.0</td>\n",
              "      <td>0.0</td>\n",
              "      <td>0.0</td>\n",
              "      <td>0.0</td>\n",
              "      <td>0.0</td>\n",
              "      <td>0.0</td>\n",
              "      <td>0.0</td>\n",
              "      <td>0.0</td>\n",
              "      <td>0.0</td>\n",
              "    </tr>\n",
              "    <tr>\n",
              "      <th>8039</th>\n",
              "      <td>4</td>\n",
              "      <td>0</td>\n",
              "      <td>0</td>\n",
              "      <td>0</td>\n",
              "      <td>0</td>\n",
              "      <td>0</td>\n",
              "      <td>0</td>\n",
              "      <td>0</td>\n",
              "      <td>0</td>\n",
              "      <td>0</td>\n",
              "      <td>...</td>\n",
              "      <td>0.0</td>\n",
              "      <td>0.0</td>\n",
              "      <td>0.0</td>\n",
              "      <td>0.0</td>\n",
              "      <td>0.0</td>\n",
              "      <td>0.0</td>\n",
              "      <td>0.0</td>\n",
              "      <td>0.0</td>\n",
              "      <td>0.0</td>\n",
              "      <td>0.0</td>\n",
              "    </tr>\n",
              "    <tr>\n",
              "      <th>8040</th>\n",
              "      <td>6</td>\n",
              "      <td>0</td>\n",
              "      <td>0</td>\n",
              "      <td>0</td>\n",
              "      <td>0</td>\n",
              "      <td>0</td>\n",
              "      <td>0</td>\n",
              "      <td>0</td>\n",
              "      <td>0</td>\n",
              "      <td>0</td>\n",
              "      <td>...</td>\n",
              "      <td>0.0</td>\n",
              "      <td>0.0</td>\n",
              "      <td>0.0</td>\n",
              "      <td>0.0</td>\n",
              "      <td>0.0</td>\n",
              "      <td>0.0</td>\n",
              "      <td>0.0</td>\n",
              "      <td>0.0</td>\n",
              "      <td>0.0</td>\n",
              "      <td>0.0</td>\n",
              "    </tr>\n",
              "    <tr>\n",
              "      <th>8041</th>\n",
              "      <td>6</td>\n",
              "      <td>0</td>\n",
              "      <td>0</td>\n",
              "      <td>0</td>\n",
              "      <td>0</td>\n",
              "      <td>0</td>\n",
              "      <td>0</td>\n",
              "      <td>0</td>\n",
              "      <td>0</td>\n",
              "      <td>0</td>\n",
              "      <td>...</td>\n",
              "      <td>0.0</td>\n",
              "      <td>0.0</td>\n",
              "      <td>0.0</td>\n",
              "      <td>0.0</td>\n",
              "      <td>0.0</td>\n",
              "      <td>0.0</td>\n",
              "      <td>0.0</td>\n",
              "      <td>0.0</td>\n",
              "      <td>0.0</td>\n",
              "      <td>0.0</td>\n",
              "    </tr>\n",
              "  </tbody>\n",
              "</table>\n",
              "<p>8042 rows × 785 columns</p>\n",
              "</div>\n",
              "    <div class=\"colab-df-buttons\">\n",
              "\n",
              "  <div class=\"colab-df-container\">\n",
              "    <button class=\"colab-df-convert\" onclick=\"convertToInteractive('df-2e251a39-957a-4964-8a3c-489f4ef381cc')\"\n",
              "            title=\"Convert this dataframe to an interactive table.\"\n",
              "            style=\"display:none;\">\n",
              "\n",
              "  <svg xmlns=\"http://www.w3.org/2000/svg\" height=\"24px\" viewBox=\"0 -960 960 960\">\n",
              "    <path d=\"M120-120v-720h720v720H120Zm60-500h600v-160H180v160Zm220 220h160v-160H400v160Zm0 220h160v-160H400v160ZM180-400h160v-160H180v160Zm440 0h160v-160H620v160ZM180-180h160v-160H180v160Zm440 0h160v-160H620v160Z\"/>\n",
              "  </svg>\n",
              "    </button>\n",
              "\n",
              "  <style>\n",
              "    .colab-df-container {\n",
              "      display:flex;\n",
              "      gap: 12px;\n",
              "    }\n",
              "\n",
              "    .colab-df-convert {\n",
              "      background-color: #E8F0FE;\n",
              "      border: none;\n",
              "      border-radius: 50%;\n",
              "      cursor: pointer;\n",
              "      display: none;\n",
              "      fill: #1967D2;\n",
              "      height: 32px;\n",
              "      padding: 0 0 0 0;\n",
              "      width: 32px;\n",
              "    }\n",
              "\n",
              "    .colab-df-convert:hover {\n",
              "      background-color: #E2EBFA;\n",
              "      box-shadow: 0px 1px 2px rgba(60, 64, 67, 0.3), 0px 1px 3px 1px rgba(60, 64, 67, 0.15);\n",
              "      fill: #174EA6;\n",
              "    }\n",
              "\n",
              "    .colab-df-buttons div {\n",
              "      margin-bottom: 4px;\n",
              "    }\n",
              "\n",
              "    [theme=dark] .colab-df-convert {\n",
              "      background-color: #3B4455;\n",
              "      fill: #D2E3FC;\n",
              "    }\n",
              "\n",
              "    [theme=dark] .colab-df-convert:hover {\n",
              "      background-color: #434B5C;\n",
              "      box-shadow: 0px 1px 3px 1px rgba(0, 0, 0, 0.15);\n",
              "      filter: drop-shadow(0px 1px 2px rgba(0, 0, 0, 0.3));\n",
              "      fill: #FFFFFF;\n",
              "    }\n",
              "  </style>\n",
              "\n",
              "    <script>\n",
              "      const buttonEl =\n",
              "        document.querySelector('#df-2e251a39-957a-4964-8a3c-489f4ef381cc button.colab-df-convert');\n",
              "      buttonEl.style.display =\n",
              "        google.colab.kernel.accessAllowed ? 'block' : 'none';\n",
              "\n",
              "      async function convertToInteractive(key) {\n",
              "        const element = document.querySelector('#df-2e251a39-957a-4964-8a3c-489f4ef381cc');\n",
              "        const dataTable =\n",
              "          await google.colab.kernel.invokeFunction('convertToInteractive',\n",
              "                                                    [key], {});\n",
              "        if (!dataTable) return;\n",
              "\n",
              "        const docLinkHtml = 'Like what you see? Visit the ' +\n",
              "          '<a target=\"_blank\" href=https://colab.research.google.com/notebooks/data_table.ipynb>data table notebook</a>'\n",
              "          + ' to learn more about interactive tables.';\n",
              "        element.innerHTML = '';\n",
              "        dataTable['output_type'] = 'display_data';\n",
              "        await google.colab.output.renderOutput(dataTable, element);\n",
              "        const docLink = document.createElement('div');\n",
              "        docLink.innerHTML = docLinkHtml;\n",
              "        element.appendChild(docLink);\n",
              "      }\n",
              "    </script>\n",
              "  </div>\n",
              "\n",
              "\n",
              "    <div id=\"df-c4ffd343-13e5-4994-b5fc-f18531dab673\">\n",
              "      <button class=\"colab-df-quickchart\" onclick=\"quickchart('df-c4ffd343-13e5-4994-b5fc-f18531dab673')\"\n",
              "                title=\"Suggest charts\"\n",
              "                style=\"display:none;\">\n",
              "\n",
              "<svg xmlns=\"http://www.w3.org/2000/svg\" height=\"24px\"viewBox=\"0 0 24 24\"\n",
              "     width=\"24px\">\n",
              "    <g>\n",
              "        <path d=\"M19 3H5c-1.1 0-2 .9-2 2v14c0 1.1.9 2 2 2h14c1.1 0 2-.9 2-2V5c0-1.1-.9-2-2-2zM9 17H7v-7h2v7zm4 0h-2V7h2v10zm4 0h-2v-4h2v4z\"/>\n",
              "    </g>\n",
              "</svg>\n",
              "      </button>\n",
              "\n",
              "<style>\n",
              "  .colab-df-quickchart {\n",
              "      --bg-color: #E8F0FE;\n",
              "      --fill-color: #1967D2;\n",
              "      --hover-bg-color: #E2EBFA;\n",
              "      --hover-fill-color: #174EA6;\n",
              "      --disabled-fill-color: #AAA;\n",
              "      --disabled-bg-color: #DDD;\n",
              "  }\n",
              "\n",
              "  [theme=dark] .colab-df-quickchart {\n",
              "      --bg-color: #3B4455;\n",
              "      --fill-color: #D2E3FC;\n",
              "      --hover-bg-color: #434B5C;\n",
              "      --hover-fill-color: #FFFFFF;\n",
              "      --disabled-bg-color: #3B4455;\n",
              "      --disabled-fill-color: #666;\n",
              "  }\n",
              "\n",
              "  .colab-df-quickchart {\n",
              "    background-color: var(--bg-color);\n",
              "    border: none;\n",
              "    border-radius: 50%;\n",
              "    cursor: pointer;\n",
              "    display: none;\n",
              "    fill: var(--fill-color);\n",
              "    height: 32px;\n",
              "    padding: 0;\n",
              "    width: 32px;\n",
              "  }\n",
              "\n",
              "  .colab-df-quickchart:hover {\n",
              "    background-color: var(--hover-bg-color);\n",
              "    box-shadow: 0 1px 2px rgba(60, 64, 67, 0.3), 0 1px 3px 1px rgba(60, 64, 67, 0.15);\n",
              "    fill: var(--button-hover-fill-color);\n",
              "  }\n",
              "\n",
              "  .colab-df-quickchart-complete:disabled,\n",
              "  .colab-df-quickchart-complete:disabled:hover {\n",
              "    background-color: var(--disabled-bg-color);\n",
              "    fill: var(--disabled-fill-color);\n",
              "    box-shadow: none;\n",
              "  }\n",
              "\n",
              "  .colab-df-spinner {\n",
              "    border: 2px solid var(--fill-color);\n",
              "    border-color: transparent;\n",
              "    border-bottom-color: var(--fill-color);\n",
              "    animation:\n",
              "      spin 1s steps(1) infinite;\n",
              "  }\n",
              "\n",
              "  @keyframes spin {\n",
              "    0% {\n",
              "      border-color: transparent;\n",
              "      border-bottom-color: var(--fill-color);\n",
              "      border-left-color: var(--fill-color);\n",
              "    }\n",
              "    20% {\n",
              "      border-color: transparent;\n",
              "      border-left-color: var(--fill-color);\n",
              "      border-top-color: var(--fill-color);\n",
              "    }\n",
              "    30% {\n",
              "      border-color: transparent;\n",
              "      border-left-color: var(--fill-color);\n",
              "      border-top-color: var(--fill-color);\n",
              "      border-right-color: var(--fill-color);\n",
              "    }\n",
              "    40% {\n",
              "      border-color: transparent;\n",
              "      border-right-color: var(--fill-color);\n",
              "      border-top-color: var(--fill-color);\n",
              "    }\n",
              "    60% {\n",
              "      border-color: transparent;\n",
              "      border-right-color: var(--fill-color);\n",
              "    }\n",
              "    80% {\n",
              "      border-color: transparent;\n",
              "      border-right-color: var(--fill-color);\n",
              "      border-bottom-color: var(--fill-color);\n",
              "    }\n",
              "    90% {\n",
              "      border-color: transparent;\n",
              "      border-bottom-color: var(--fill-color);\n",
              "    }\n",
              "  }\n",
              "</style>\n",
              "\n",
              "      <script>\n",
              "        async function quickchart(key) {\n",
              "          const quickchartButtonEl =\n",
              "            document.querySelector('#' + key + ' button');\n",
              "          quickchartButtonEl.disabled = true;  // To prevent multiple clicks.\n",
              "          quickchartButtonEl.classList.add('colab-df-spinner');\n",
              "          try {\n",
              "            const charts = await google.colab.kernel.invokeFunction(\n",
              "                'suggestCharts', [key], {});\n",
              "          } catch (error) {\n",
              "            console.error('Error during call to suggestCharts:', error);\n",
              "          }\n",
              "          quickchartButtonEl.classList.remove('colab-df-spinner');\n",
              "          quickchartButtonEl.classList.add('colab-df-quickchart-complete');\n",
              "        }\n",
              "        (() => {\n",
              "          let quickchartButtonEl =\n",
              "            document.querySelector('#df-c4ffd343-13e5-4994-b5fc-f18531dab673 button');\n",
              "          quickchartButtonEl.style.display =\n",
              "            google.colab.kernel.accessAllowed ? 'block' : 'none';\n",
              "        })();\n",
              "      </script>\n",
              "    </div>\n",
              "\n",
              "  <div id=\"id_102e1f8f-5d6a-47f4-af30-727d3f393a63\">\n",
              "    <style>\n",
              "      .colab-df-generate {\n",
              "        background-color: #E8F0FE;\n",
              "        border: none;\n",
              "        border-radius: 50%;\n",
              "        cursor: pointer;\n",
              "        display: none;\n",
              "        fill: #1967D2;\n",
              "        height: 32px;\n",
              "        padding: 0 0 0 0;\n",
              "        width: 32px;\n",
              "      }\n",
              "\n",
              "      .colab-df-generate:hover {\n",
              "        background-color: #E2EBFA;\n",
              "        box-shadow: 0px 1px 2px rgba(60, 64, 67, 0.3), 0px 1px 3px 1px rgba(60, 64, 67, 0.15);\n",
              "        fill: #174EA6;\n",
              "      }\n",
              "\n",
              "      [theme=dark] .colab-df-generate {\n",
              "        background-color: #3B4455;\n",
              "        fill: #D2E3FC;\n",
              "      }\n",
              "\n",
              "      [theme=dark] .colab-df-generate:hover {\n",
              "        background-color: #434B5C;\n",
              "        box-shadow: 0px 1px 3px 1px rgba(0, 0, 0, 0.15);\n",
              "        filter: drop-shadow(0px 1px 2px rgba(0, 0, 0, 0.3));\n",
              "        fill: #FFFFFF;\n",
              "      }\n",
              "    </style>\n",
              "    <button class=\"colab-df-generate\" onclick=\"generateWithVariable('data')\"\n",
              "            title=\"Generate code using this dataframe.\"\n",
              "            style=\"display:none;\">\n",
              "\n",
              "  <svg xmlns=\"http://www.w3.org/2000/svg\" height=\"24px\"viewBox=\"0 0 24 24\"\n",
              "       width=\"24px\">\n",
              "    <path d=\"M7,19H8.4L18.45,9,17,7.55,7,17.6ZM5,21V16.75L18.45,3.32a2,2,0,0,1,2.83,0l1.4,1.43a1.91,1.91,0,0,1,.58,1.4,1.91,1.91,0,0,1-.58,1.4L9.25,21ZM18.45,9,17,7.55Zm-12,3A5.31,5.31,0,0,0,4.9,8.1,5.31,5.31,0,0,0,1,6.5,5.31,5.31,0,0,0,4.9,4.9,5.31,5.31,0,0,0,6.5,1,5.31,5.31,0,0,0,8.1,4.9,5.31,5.31,0,0,0,12,6.5,5.46,5.46,0,0,0,6.5,12Z\"/>\n",
              "  </svg>\n",
              "    </button>\n",
              "    <script>\n",
              "      (() => {\n",
              "      const buttonEl =\n",
              "        document.querySelector('#id_102e1f8f-5d6a-47f4-af30-727d3f393a63 button.colab-df-generate');\n",
              "      buttonEl.style.display =\n",
              "        google.colab.kernel.accessAllowed ? 'block' : 'none';\n",
              "\n",
              "      buttonEl.onclick = () => {\n",
              "        google.colab.notebook.generateWithVariable('data');\n",
              "      }\n",
              "      })();\n",
              "    </script>\n",
              "  </div>\n",
              "\n",
              "    </div>\n",
              "  </div>\n"
            ],
            "application/vnd.google.colaboratory.intrinsic+json": {
              "type": "dataframe",
              "variable_name": "data"
            }
          },
          "metadata": {},
          "execution_count": 7
        }
      ],
      "source": [
        "data"
      ]
    },
    {
      "cell_type": "code",
      "execution_count": 8,
      "id": "d9b49d7a",
      "metadata": {
        "id": "d9b49d7a"
      },
      "outputs": [],
      "source": [
        "# separating features and labels\n",
        "y = data.iloc[:, 0].values\n",
        "X = data.iloc[:, 1:].values\n",
        "X = X / 255.0"
      ]
    },
    {
      "cell_type": "code",
      "execution_count": 9,
      "id": "fe7bb509",
      "metadata": {
        "id": "fe7bb509"
      },
      "outputs": [],
      "source": [
        "# function to display image from flattened array (784 -> 28x28)\n",
        "def create_image(flatImage,imageSize=28):\n",
        "    image = np.zeros((imageSize,imageSize))\n",
        "    for i in range(imageSize):\n",
        "        image[i] = flatImage[(i*imageSize):((i+1)*imageSize)]\n",
        "    return image"
      ]
    },
    {
      "cell_type": "code",
      "execution_count": 10,
      "id": "51df3f0b",
      "metadata": {
        "colab": {
          "base_uri": "https://localhost:8080/",
          "height": 428
        },
        "id": "51df3f0b",
        "outputId": "e9c0c60f-9a07-4546-e0b3-15694bd42eb1"
      },
      "outputs": [
        {
          "output_type": "display_data",
          "data": {
            "text/plain": [
              "<Figure size 640x480 with 1 Axes>"
            ],
            "image/png": "[encoded data removed]"
          },
          "metadata": {}
        }
      ],
      "source": [
        "test_image =create_image(X[-1])\n",
        "plt.imshow(test_image, cmap='gray')  # 'gray' ensures it's displayed in grayscale\n",
        "plt.title(\"Test Image\")\n",
        "plt.axis('off')  # Hide axes for clarity\n",
        "plt.show()"
      ]
    },
    {
      "cell_type": "code",
      "execution_count": 11,
      "id": "2cf1af7b",
      "metadata": {
        "colab": {
          "base_uri": "https://localhost:8080/",
          "height": 472
        },
        "id": "2cf1af7b",
        "outputId": "f954f868-edd1-4c68-b660-abf502b34b10"
      },
      "outputs": [
        {
          "output_type": "display_data",
          "data": {
            "text/plain": [
              "<Figure size 640x480 with 1 Axes>"
            ],
            "image/png": "[encoded data removed]"
          },
          "metadata": {}
        }
      ],
      "source": [
        "# plotting the amount of samples for each label:\n",
        "unique, counts = np.unique(y, return_counts=True)\n",
        "bar_width = 0.7  # smaller value = more space between bars\n",
        "plt.bar(unique, counts, width=bar_width, color='skyblue', edgecolor='black')\n",
        "plt.title(\"Distribution of Y\")\n",
        "plt.xlabel(\"Value\")\n",
        "plt.ylabel(\"Count\")\n",
        "plt.xticks(unique)  # Show each integer on the x-axis\n",
        "plt.grid(axis='y', linestyle='--', alpha=0.6)\n",
        "# plt.savefig(\"data_histogram.png\")\n",
        "plt.show()"
      ]
    },
    {
      "cell_type": "code",
      "source": [
        "random_state = 42"
      ],
      "metadata": {
        "id": "4GteJntyQZvq"
      },
      "id": "4GteJntyQZvq",
      "execution_count": 12,
      "outputs": []
    },
    {
      "cell_type": "code",
      "source": [
        "# creating test set\n",
        "X_temp, X_test, y_temp, y_test = train_test_split(\n",
        "    X, y, test_size=0.15, random_state=random_state, stratify=y\n",
        ")"
      ],
      "metadata": {
        "id": "LS4pMNLvQ1cw"
      },
      "id": "LS4pMNLvQ1cw",
      "execution_count": 13,
      "outputs": []
    },
    {
      "cell_type": "code",
      "source": [
        "# creating training and validation tests\n",
        "X_train, X_val, y_train, y_val = train_test_split(\n",
        "    X_temp, y_temp, test_size=0.176, random_state=random_state, stratify=y_temp\n",
        ")"
      ],
      "metadata": {
        "id": "Q_C1NfnRQ2Bd"
      },
      "id": "Q_C1NfnRQ2Bd",
      "execution_count": 14,
      "outputs": []
    },
    {
      "cell_type": "code",
      "source": [
        "print(f\"Train set size: {len(X_train)}\")\n",
        "print(f\"Validation set size: {len(X_val)}\")\n",
        "print(f\"Test set size: {len(X_test)}\")"
      ],
      "metadata": {
        "colab": {
          "base_uri": "https://localhost:8080/"
        },
        "id": "xPRiN7T7Q5Xn",
        "outputId": "26d353b2-73ae-4ebb-99f6-768b90c34c9d"
      },
      "id": "xPRiN7T7Q5Xn",
      "execution_count": 15,
      "outputs": [
        {
          "output_type": "stream",
          "name": "stdout",
          "text": [
            "Train set size: 5632\n",
            "Validation set size: 1203\n",
            "Test set size: 1207\n"
          ]
        }
      ]
    },
    {
      "cell_type": "markdown",
      "source": [
        "### Functions for Random Sampling, Variance-Based Sampling of Features"
      ],
      "metadata": {
        "id": "BPj7DUyNQ9dP"
      },
      "id": "BPj7DUyNQ9dP"
    },
    {
      "cell_type": "code",
      "source": [
        "def select_features_random(random_state, n_features):\n",
        "    np.random.seed(random_state)\n",
        "    selected_features = np.random.choice(784, size=n_features, replace=False)\n",
        "    selected_features.sort()\n",
        "\n",
        "    print(f\"Randomly selected {n_features} features\")\n",
        "\n",
        "    return selected_features"
      ],
      "metadata": {
        "id": "nUdWNx7cRDzM"
      },
      "id": "nUdWNx7cRDzM",
      "execution_count": 39,
      "outputs": []
    },
    {
      "cell_type": "code",
      "source": [
        "def select_features_variance(X_train, n_features):\n",
        "    feature_variance = np.var(X_train, axis=0)\n",
        "    selected_features = np.argsort(feature_variance)[-n_features:]\n",
        "    selected_features.sort()\n",
        "\n",
        "    print(f\"Selected top {n_features} features by variance\")\n",
        "\n",
        "    return selected_features"
      ],
      "metadata": {
        "id": "31W7qN2cRJE7"
      },
      "id": "31W7qN2cRJE7",
      "execution_count": 40,
      "outputs": []
    },
    {
      "cell_type": "code",
      "source": [
        "def apply_feature_selection(X_train, X_val, X_test, selected_features):\n",
        "    if selected_features is not None:\n",
        "        X_train_mod = X_train[:, selected_features]\n",
        "        X_val_mod = X_val[:, selected_features]\n",
        "        X_test_mod = X_test[:, selected_features]\n",
        "        print(f\"Applied feature selection. New feature dimension: {X_train_mod.shape[1]}\")\n",
        "\n",
        "    return X_train_mod, X_val_mod, X_test_mod"
      ],
      "metadata": {
        "id": "BglrylSyRL_J"
      },
      "id": "BglrylSyRL_J",
      "execution_count": 18,
      "outputs": []
    },
    {
      "cell_type": "markdown",
      "id": "6df76ca4",
      "metadata": {
        "id": "6df76ca4"
      },
      "source": [
        "## Model Training (All Features)"
      ]
    },
    {
      "cell_type": "code",
      "execution_count": 19,
      "id": "9182b5a6",
      "metadata": {
        "id": "9182b5a6"
      },
      "outputs": [],
      "source": [
        "def test_model(model,X,Y):\n",
        "    Y_pred = model.predict(X)\n",
        "    accuracy = accuracy_score(Y, Y_pred)\n",
        "    cm = confusion_matrix(Y, Y_pred)\n",
        "    return Y_pred, accuracy, cm"
      ]
    },
    {
      "cell_type": "markdown",
      "id": "6d006f0f",
      "metadata": {
        "id": "6d006f0f"
      },
      "source": [
        "### Logistic Regression (No Penalty)"
      ]
    },
    {
      "cell_type": "code",
      "execution_count": 20,
      "id": "2a04125f",
      "metadata": {
        "id": "2a04125f"
      },
      "outputs": [],
      "source": [
        "logisticReg = LogisticRegression(penalty=None, solver='saga', max_iter=1000, random_state=random_state)\n",
        "logisticReg.fit(X_train, y_train)\n",
        "y_pred_logReg, accuracy_logReg, cm_logReg = test_model(logisticReg, X_val, y_val)"
      ]
    },
    {
      "cell_type": "code",
      "execution_count": 21,
      "id": "7fa780dd",
      "metadata": {
        "colab": {
          "base_uri": "https://localhost:8080/"
        },
        "id": "7fa780dd",
        "outputId": "617c9f38-cd53-4622-9336-0ad904a4e9b7"
      },
      "outputs": [
        {
          "output_type": "stream",
          "name": "stdout",
          "text": [
            "Accuracy of logistic regression without regularization:  0.8719866999168745\n",
            "              precision    recall  f1-score   support\n",
            "\n",
            "           0       0.96      0.95      0.95       116\n",
            "           1       0.94      0.97      0.95       136\n",
            "           2       0.83      0.84      0.83       125\n",
            "           3       0.84      0.87      0.85       121\n",
            "           4       0.90      0.85      0.87       119\n",
            "           5       0.82      0.80      0.81       109\n",
            "           6       0.96      0.93      0.95       114\n",
            "           7       0.86      0.87      0.87       122\n",
            "           8       0.80      0.80      0.80       118\n",
            "           9       0.82      0.84      0.83       123\n",
            "\n",
            "    accuracy                           0.87      1203\n",
            "   macro avg       0.87      0.87      0.87      1203\n",
            "weighted avg       0.87      0.87      0.87      1203\n",
            "\n"
          ]
        }
      ],
      "source": [
        "print(\"Accuracy of logistic regression without regularization: \", accuracy_logReg)\n",
        "print(classification_report(y_val, y_pred_logReg, target_names=[str(i) for i in range(10)]))"
      ]
    },
    {
      "cell_type": "code",
      "execution_count": 22,
      "id": "a55c26fc",
      "metadata": {
        "colab": {
          "base_uri": "https://localhost:8080/",
          "height": 466
        },
        "id": "a55c26fc",
        "outputId": "6ab89fa0-34b4-42d7-eabd-bb70c45e8c60"
      },
      "outputs": [
        {
          "output_type": "execute_result",
          "data": {
            "text/plain": [
              "<sklearn.metrics._plot.confusion_matrix.ConfusionMatrixDisplay at 0x79fe29197c20>"
            ]
          },
          "metadata": {},
          "execution_count": 22
        },
        {
          "output_type": "display_data",
          "data": {
            "text/plain": [
              "<Figure size 640x480 with 2 Axes>"
            ],
            "image/png": "[encoded data removed]"
          },
          "metadata": {}
        }
      ],
      "source": [
        "ConfusionMatrixDisplay(cm_logReg, display_labels=range(10)).plot()"
      ]
    },
    {
      "cell_type": "markdown",
      "id": "045c984b",
      "metadata": {
        "id": "045c984b"
      },
      "source": [
        "### Logistic Regression (with L1 Regularization)"
      ]
    },
    {
      "cell_type": "code",
      "execution_count": 24,
      "id": "24b2155f",
      "metadata": {
        "colab": {
          "base_uri": "https://localhost:8080/"
        },
        "id": "24b2155f",
        "outputId": "9dc12810-b9a1-4d7c-b007-68a7b3ccc8b9"
      },
      "outputs": [
        {
          "output_type": "stream",
          "name": "stdout",
          "text": [
            "[2025-10-22 09:41:52.836] [CUML] [warning] QWL-QN: max iterations reached\n",
            "[2025-10-22 09:41:52.841] [CUML] [warning] Maximum iterations reached before solver is converged. To increase model accuracy you can increase the number of iterations (max_iter) or improve the scaling of the input data.\n",
            "[2025-10-22 09:42:04.876] [CUML] [warning] QWL-QN: max iterations reached\n",
            "[2025-10-22 09:42:04.877] [CUML] [warning] Maximum iterations reached before solver is converged. To increase model accuracy you can increase the number of iterations (max_iter) or improve the scaling of the input data.\n",
            "Accuracy of best model:  0.885286783042394\n",
            "C value of best model:  1.0\n"
          ]
        }
      ],
      "source": [
        "# N = 100\n",
        "eps = 1e-4\n",
        "C_list = np.logspace(-3, 2, 6)\n",
        "best_model = []\n",
        "best_accuracy = 0\n",
        "for c_value in C_list:\n",
        "\tlogisticReg = LogisticRegression(penalty='l1', solver='saga', max_iter=2000, random_state=random_state, C=c_value)\n",
        "\tlogisticReg.fit(X_train, y_train)\n",
        "\tY_pred,accuracy,cm = test_model(logisticReg, X_val, y_val)\n",
        "\tif accuracy>best_accuracy +eps:\n",
        "\t\tbest_accuracy=accuracy\n",
        "\t\tbest_model = [Y_pred,accuracy,cm,c_value]\n",
        "print(\"Accuracy of best model: \",best_model[1])\n",
        "print(\"C value of best model: \",best_model[3])"
      ]
    },
    {
      "cell_type": "code",
      "execution_count": 25,
      "id": "3307f12d",
      "metadata": {
        "id": "3307f12d",
        "outputId": "e4579112-595b-4fc7-f57d-f392ae30f4cc",
        "colab": {
          "base_uri": "https://localhost:8080/"
        }
      },
      "outputs": [
        {
          "output_type": "stream",
          "name": "stdout",
          "text": [
            "Accuracy of logistic regression with L1 regularization:  0.885286783042394\n",
            "              precision    recall  f1-score   support\n",
            "\n",
            "           0       0.96      0.95      0.96       116\n",
            "           1       0.92      0.96      0.94       136\n",
            "           2       0.87      0.88      0.87       125\n",
            "           3       0.84      0.88      0.86       121\n",
            "           4       0.93      0.90      0.91       119\n",
            "           5       0.84      0.80      0.82       109\n",
            "           6       0.96      0.95      0.95       114\n",
            "           7       0.88      0.88      0.88       122\n",
            "           8       0.78      0.78      0.78       118\n",
            "           9       0.88      0.86      0.87       123\n",
            "\n",
            "    accuracy                           0.89      1203\n",
            "   macro avg       0.89      0.88      0.88      1203\n",
            "weighted avg       0.89      0.89      0.89      1203\n",
            "\n"
          ]
        }
      ],
      "source": [
        "print(\"Accuracy of logistic regression with L1 regularization: \", best_model[1])\n",
        "print(classification_report(y_val, best_model[0], target_names=[str(i) for i in range(10)]))"
      ]
    },
    {
      "cell_type": "code",
      "execution_count": 26,
      "id": "3e1681ad",
      "metadata": {
        "id": "3e1681ad",
        "outputId": "76b7fa70-062f-4626-90da-b993a2c6d986",
        "colab": {
          "base_uri": "https://localhost:8080/",
          "height": 466
        }
      },
      "outputs": [
        {
          "output_type": "execute_result",
          "data": {
            "text/plain": [
              "<sklearn.metrics._plot.confusion_matrix.ConfusionMatrixDisplay at 0x79fe28363290>"
            ]
          },
          "metadata": {},
          "execution_count": 26
        },
        {
          "output_type": "display_data",
          "data": {
            "text/plain": [
              "<Figure size 640x480 with 2 Axes>"
            ],
            "image/png": "[encoded data removed]"
          },
          "metadata": {}
        }
      ],
      "source": [
        "ConfusionMatrixDisplay(best_model[2], display_labels=range(10)).plot()"
      ]
    },
    {
      "cell_type": "code",
      "execution_count": 27,
      "id": "80a0a988",
      "metadata": {
        "id": "80a0a988",
        "outputId": "07e76245-6c11-44c2-ce03-cf6d23d521a5",
        "colab": {
          "base_uri": "https://localhost:8080/",
          "height": 193
        }
      },
      "outputs": [
        {
          "output_type": "error",
          "ename": "NameError",
          "evalue": "name 'logisticReg_l1' is not defined",
          "traceback": [
            "\u001b[0;31m---------------------------------------------------------------------------\u001b[0m",
            "\u001b[0;31mNameError\u001b[0m                                 Traceback (most recent call last)",
            "\u001b[0;32m/tmp/ipython-input-2431132411.py\u001b[0m in \u001b[0;36m<cell line: 0>\u001b[0;34m()\u001b[0m\n\u001b[0;32m----> 1\u001b[0;31m \u001b[0mn_nonzero_logReg_l1\u001b[0m \u001b[0;34m=\u001b[0m \u001b[0mnp\u001b[0m\u001b[0;34m.\u001b[0m\u001b[0msum\u001b[0m\u001b[0;34m(\u001b[0m\u001b[0mlogisticReg_l1\u001b[0m\u001b[0;34m.\u001b[0m\u001b[0mcoef_\u001b[0m \u001b[0;34m!=\u001b[0m \u001b[0;36m0\u001b[0m\u001b[0;34m)\u001b[0m\u001b[0;34m\u001b[0m\u001b[0;34m\u001b[0m\u001b[0m\n\u001b[0m\u001b[1;32m      2\u001b[0m \u001b[0msparsity_ratio_logReg_l1\u001b[0m \u001b[0;34m=\u001b[0m \u001b[0mn_nonzero_logReg_l1\u001b[0m \u001b[0;34m/\u001b[0m \u001b[0mlogisticReg_l1\u001b[0m\u001b[0;34m.\u001b[0m\u001b[0mcoef_\u001b[0m\u001b[0;34m.\u001b[0m\u001b[0msize\u001b[0m\u001b[0;34m\u001b[0m\u001b[0;34m\u001b[0m\u001b[0m\n\u001b[1;32m      3\u001b[0m \u001b[0mprint\u001b[0m\u001b[0;34m(\u001b[0m\u001b[0;34mf\"Number of non-zero coefficients in Logistic Regression with L1 regularization: {n_nonzero_logReg_l1}\"\u001b[0m\u001b[0;34m)\u001b[0m\u001b[0;34m\u001b[0m\u001b[0;34m\u001b[0m\u001b[0m\n\u001b[1;32m      4\u001b[0m \u001b[0mprint\u001b[0m\u001b[0;34m(\u001b[0m\u001b[0;34mf\"Sparsity ratio in Logistic Regression with L1 regularization: {sparsity_ratio_logReg_l1:.4f}\"\u001b[0m\u001b[0;34m)\u001b[0m\u001b[0;34m\u001b[0m\u001b[0;34m\u001b[0m\u001b[0m\n",
            "\u001b[0;31mNameError\u001b[0m: name 'logisticReg_l1' is not defined"
          ]
        }
      ],
      "source": [
        "n_nonzero_logReg_l1 = np.sum(logisticReg_l1.coef_ != 0)\n",
        "sparsity_ratio_logReg_l1 = n_nonzero_logReg_l1 / logisticReg_l1.coef_.size\n",
        "print(f\"Number of non-zero coefficients in Logistic Regression with L1 regularization: {n_nonzero_logReg_l1}\")\n",
        "print(f\"Sparsity ratio in Logistic Regression with L1 regularization: {sparsity_ratio_logReg_l1:.4f}\")"
      ]
    },
    {
      "cell_type": "markdown",
      "source": [
        "### Linear Support Vector Machine"
      ],
      "metadata": {
        "id": "NLpE_ioj5y75"
      },
      "id": "NLpE_ioj5y75"
    },
    {
      "cell_type": "code",
      "source": [
        "linear_svc = LinearSVC(\n",
        "    C = 1.0,\n",
        "    penalty = 'l2',\n",
        "    dual = False,\n",
        "    max_iter = 5000,\n",
        "    random_state = 42,\n",
        "    verbose = 1\n",
        ")\n",
        "linear_svc.fit(X_train, y_train)\n",
        "y_pred_linSVC, accuracy_linSVC, cm_linSVC = test_model(linear_svc, X_val, y_val)"
      ],
      "metadata": {
        "id": "6is6X86u55U6"
      },
      "id": "6is6X86u55U6",
      "execution_count": 28,
      "outputs": []
    },
    {
      "cell_type": "code",
      "source": [
        "print(\"Accuracy of linear support vector machine: \", accuracy_linSVC)\n",
        "print(classification_report(y_val, y_pred_linSVC, target_names=[str(i) for i in range(10)]))"
      ],
      "metadata": {
        "colab": {
          "base_uri": "https://localhost:8080/"
        },
        "id": "rsqvitTu76ip",
        "outputId": "7d7cdee9-0f55-412e-cb8e-bdbde4461d64"
      },
      "id": "rsqvitTu76ip",
      "execution_count": 29,
      "outputs": [
        {
          "output_type": "stream",
          "name": "stdout",
          "text": [
            "Accuracy of linear support vector machine:  0.8728179551122195\n",
            "              precision    recall  f1-score   support\n",
            "\n",
            "           0       0.93      0.97      0.95       116\n",
            "           1       0.94      0.97      0.95       136\n",
            "           2       0.88      0.82      0.85       125\n",
            "           3       0.81      0.89      0.85       121\n",
            "           4       0.91      0.87      0.89       119\n",
            "           5       0.85      0.81      0.83       109\n",
            "           6       0.95      0.92      0.94       114\n",
            "           7       0.83      0.89      0.86       122\n",
            "           8       0.78      0.77      0.78       118\n",
            "           9       0.83      0.80      0.81       123\n",
            "\n",
            "    accuracy                           0.87      1203\n",
            "   macro avg       0.87      0.87      0.87      1203\n",
            "weighted avg       0.87      0.87      0.87      1203\n",
            "\n"
          ]
        }
      ]
    },
    {
      "cell_type": "code",
      "source": [
        "ConfusionMatrixDisplay(cm_linSVC, display_labels=range(10)).plot()"
      ],
      "metadata": {
        "colab": {
          "base_uri": "https://localhost:8080/",
          "height": 466
        },
        "id": "Cmt1Wg8Z8co_",
        "outputId": "e5e7a19f-83de-477b-d05d-fc4852965ab8"
      },
      "id": "Cmt1Wg8Z8co_",
      "execution_count": 30,
      "outputs": [
        {
          "output_type": "execute_result",
          "data": {
            "text/plain": [
              "<sklearn.metrics._plot.confusion_matrix.ConfusionMatrixDisplay at 0x79fe282992b0>"
            ]
          },
          "metadata": {},
          "execution_count": 30
        },
        {
          "output_type": "display_data",
          "data": {
            "text/plain": [
              "<Figure size 640x480 with 2 Axes>"
            ],
            "image/png": "[encoded data removed]"
          },
          "metadata": {}
        }
      ]
    },
    {
      "cell_type": "markdown",
      "source": [
        "### Random Forest"
      ],
      "metadata": {
        "id": "U7bjjw2B1LME"
      },
      "id": "U7bjjw2B1LME"
    },
    {
      "cell_type": "code",
      "source": [
        "randomForest = RandomForestClassifier(n_estimators=100, random_state=random_state, n_jobs=-1, max_depth=20, min_samples_split=5, min_samples_leaf=2, max_features='sqrt')\n",
        "randomForest.fit(X_train,y_train)\n",
        "y_pred_rf, accuracy_rf, cm_rf = test_model(randomForest, X_val, y_val)"
      ],
      "metadata": {
        "id": "D7N7HrmT1feB"
      },
      "id": "D7N7HrmT1feB",
      "execution_count": 31,
      "outputs": []
    },
    {
      "cell_type": "code",
      "source": [
        "print(\"Accuracy of random forest classifier: \", accuracy_rf)\n",
        "print(classification_report(y_val, y_pred_rf, target_names=[str(i) for i in range(10)]))"
      ],
      "metadata": {
        "colab": {
          "base_uri": "https://localhost:8080/"
        },
        "id": "2azUBcKZHGEH",
        "outputId": "1cd057f8-667a-4672-8479-50e5803a4ced"
      },
      "id": "2azUBcKZHGEH",
      "execution_count": 32,
      "outputs": [
        {
          "output_type": "stream",
          "name": "stdout",
          "text": [
            "Accuracy of random forest classifier:  0.940980881130507\n",
            "              precision    recall  f1-score   support\n",
            "\n",
            "           0       0.97      0.99      0.98       116\n",
            "           1       0.93      0.99      0.96       136\n",
            "           2       0.94      0.96      0.95       125\n",
            "           3       0.91      0.89      0.90       121\n",
            "           4       0.93      0.94      0.94       119\n",
            "           5       0.93      0.90      0.92       109\n",
            "           6       0.99      0.95      0.97       114\n",
            "           7       0.91      0.93      0.92       122\n",
            "           8       0.95      0.93      0.94       118\n",
            "           9       0.95      0.93      0.94       123\n",
            "\n",
            "    accuracy                           0.94      1203\n",
            "   macro avg       0.94      0.94      0.94      1203\n",
            "weighted avg       0.94      0.94      0.94      1203\n",
            "\n"
          ]
        }
      ]
    },
    {
      "cell_type": "code",
      "source": [
        "ConfusionMatrixDisplay(cm_rf, display_labels=range(10)).plot()"
      ],
      "metadata": {
        "colab": {
          "base_uri": "https://localhost:8080/",
          "height": 466
        },
        "id": "zkzEzl7oI3RX",
        "outputId": "786f7a09-ea59-40f3-e863-dd6df96818c9"
      },
      "id": "zkzEzl7oI3RX",
      "execution_count": 33,
      "outputs": [
        {
          "output_type": "execute_result",
          "data": {
            "text/plain": [
              "<sklearn.metrics._plot.confusion_matrix.ConfusionMatrixDisplay at 0x79fe281da990>"
            ]
          },
          "metadata": {},
          "execution_count": 33
        },
        {
          "output_type": "display_data",
          "data": {
            "text/plain": [
              "<Figure size 640x480 with 2 Axes>"
            ],
            "image/png": "[encoded data removed]"
          },
          "metadata": {}
        }
      ]
    },
    {
      "cell_type": "markdown",
      "source": [
        "### Multi-Layer Perceptron (Fully Connected Neural Network)"
      ],
      "metadata": {
        "id": "Ez-UXuzZ1gdk"
      },
      "id": "Ez-UXuzZ1gdk"
    },
    {
      "cell_type": "code",
      "source": [
        "mlp = MLPClassifier(\n",
        "    hidden_layer_sizes=(256,128),\n",
        "    activation='relu',\n",
        "    solver='adam',\n",
        "    alpha = 1e-4,\n",
        "    batch_size = 64,\n",
        "    learning_rate_init = 1e-3,\n",
        "    max_iter = 50,\n",
        "    random_state = 42,\n",
        "    verbose = True\n",
        ")\n",
        "mlp.fit(X_train,y_train)\n",
        "y_pred_mlp, accuracy_mlp, cm_mlp = test_model(mlp,X_val,y_val)"
      ],
      "metadata": {
        "colab": {
          "base_uri": "https://localhost:8080/"
        },
        "id": "sGJ5dqwH1s66",
        "outputId": "6958b560-591e-426f-d49e-042043a11970"
      },
      "id": "sGJ5dqwH1s66",
      "execution_count": 35,
      "outputs": [
        {
          "output_type": "stream",
          "name": "stdout",
          "text": [
            "Iteration 1, loss = 0.67187637\n",
            "Iteration 2, loss = 0.25543115\n",
            "Iteration 3, loss = 0.16254621\n",
            "Iteration 4, loss = 0.11002793\n",
            "Iteration 5, loss = 0.07353734\n",
            "Iteration 6, loss = 0.04804531\n",
            "Iteration 7, loss = 0.02629251\n",
            "Iteration 8, loss = 0.01785178\n",
            "Iteration 9, loss = 0.01171103\n",
            "Iteration 10, loss = 0.00709025\n",
            "Iteration 11, loss = 0.00623146\n",
            "Iteration 12, loss = 0.00438060\n",
            "Iteration 13, loss = 0.00351196\n",
            "Iteration 14, loss = 0.00295613\n",
            "Iteration 15, loss = 0.00258216\n",
            "Iteration 16, loss = 0.00224523\n",
            "Iteration 17, loss = 0.00198668\n",
            "Iteration 18, loss = 0.00183930\n",
            "Iteration 19, loss = 0.00169018\n",
            "Iteration 20, loss = 0.00156173\n",
            "Iteration 21, loss = 0.00146037\n",
            "Iteration 22, loss = 0.00135043\n",
            "Iteration 23, loss = 0.00127811\n",
            "Iteration 24, loss = 0.00120911\n",
            "Iteration 25, loss = 0.00115441\n",
            "Iteration 26, loss = 0.00109395\n",
            "Iteration 27, loss = 0.00105266\n",
            "Iteration 28, loss = 0.00101327\n",
            "Iteration 29, loss = 0.00097806\n",
            "Iteration 30, loss = 0.00094355\n",
            "Iteration 31, loss = 0.00091433\n",
            "Iteration 32, loss = 0.00089169\n",
            "Iteration 33, loss = 0.00086678\n",
            "Training loss did not improve more than tol=0.000100 for 10 consecutive epochs. Stopping.\n"
          ]
        }
      ]
    },
    {
      "cell_type": "code",
      "source": [
        "print(\"Accuracy of fully connected neural network: \", accuracy_mlp)\n",
        "print(classification_report(y_val, y_pred_mlp, target_names=[str(i) for i in range(10)]))"
      ],
      "metadata": {
        "colab": {
          "base_uri": "https://localhost:8080/"
        },
        "id": "6-9nmu9Z2uA-",
        "outputId": "9e239c16-d844-4e66-e27b-f85d61d8d261"
      },
      "id": "6-9nmu9Z2uA-",
      "execution_count": 36,
      "outputs": [
        {
          "output_type": "stream",
          "name": "stdout",
          "text": [
            "Accuracy of fully connected neural network:  0.9567747298420615\n",
            "              precision    recall  f1-score   support\n",
            "\n",
            "           0       0.97      0.99      0.98       116\n",
            "           1       0.96      0.99      0.97       136\n",
            "           2       0.95      0.95      0.95       125\n",
            "           3       0.96      0.94      0.95       121\n",
            "           4       0.97      0.95      0.96       119\n",
            "           5       0.97      0.94      0.95       109\n",
            "           6       0.99      0.96      0.98       114\n",
            "           7       0.91      0.96      0.94       122\n",
            "           8       0.93      0.94      0.94       118\n",
            "           9       0.95      0.94      0.95       123\n",
            "\n",
            "    accuracy                           0.96      1203\n",
            "   macro avg       0.96      0.96      0.96      1203\n",
            "weighted avg       0.96      0.96      0.96      1203\n",
            "\n"
          ]
        }
      ]
    },
    {
      "cell_type": "code",
      "source": [
        "ConfusionMatrixDisplay(cm_mlp, display_labels=range(10)).plot()"
      ],
      "metadata": {
        "colab": {
          "base_uri": "https://localhost:8080/",
          "height": 466
        },
        "id": "De5fLGOB3b0v",
        "outputId": "963febba-c2ac-4d63-a823-b6fc16119f5a"
      },
      "id": "De5fLGOB3b0v",
      "execution_count": 37,
      "outputs": [
        {
          "output_type": "execute_result",
          "data": {
            "text/plain": [
              "<sklearn.metrics._plot.confusion_matrix.ConfusionMatrixDisplay at 0x79fe1df08230>"
            ]
          },
          "metadata": {},
          "execution_count": 37
        },
        {
          "output_type": "display_data",
          "data": {
            "text/plain": [
              "<Figure size 640x480 with 2 Axes>"
            ],
            "image/png": "[encoded data removed]"
          },
          "metadata": {}
        }
      ]
    },
    {
      "cell_type": "markdown",
      "source": [
        "## Model Training (using Randomized Sampling)\n",
        "Checking how random selection of 100 features impacts classification accuracy"
      ],
      "metadata": {
        "id": "zdmF7aZoXyWz"
      },
      "id": "zdmF7aZoXyWz"
    },
    {
      "cell_type": "code",
      "source": [
        "random_features = select_features_random(random_state=random_state, n_features=100)\n",
        "X_train_rnd_100, X_val_rnd_100, X_test_rnd_100 = apply_feature_selection(X_train, X_val, X_test, random_features)"
      ],
      "metadata": {
        "colab": {
          "base_uri": "https://localhost:8080/"
        },
        "id": "fdTk5Ek3ZIAd",
        "outputId": "c4f7a4e5-0dce-4283-d731-c8292dc1890b"
      },
      "id": "fdTk5Ek3ZIAd",
      "execution_count": 41,
      "outputs": [
        {
          "output_type": "stream",
          "name": "stdout",
          "text": [
            "Randomly selected 100 features\n",
            "Applied feature selection. New feature dimension: 100\n"
          ]
        }
      ]
    },
    {
      "cell_type": "markdown",
      "source": [
        "### Logistic Regression (No Penalty)"
      ],
      "metadata": {
        "id": "PLulMkL_admB"
      },
      "id": "PLulMkL_admB"
    },
    {
      "cell_type": "code",
      "source": [
        "logisticReg.fit(X_train_rnd_100, y_train)\n",
        "y_pred_logReg_rnd_100, accuracy_logReg_rnd_100, cm_logReg_rnd_100 = test_model(logisticReg, X_val_rnd_100, y_val)"
      ],
      "metadata": {
        "id": "aL8AoJm8aPIN"
      },
      "id": "aL8AoJm8aPIN",
      "execution_count": 42,
      "outputs": []
    },
    {
      "cell_type": "code",
      "source": [
        "print(\"Accuracy of logistic regression without regularization: \", accuracy_logReg_rnd_100)\n",
        "print(classification_report(y_val, y_pred_logReg_rnd_100, target_names=[str(i) for i in range(10)]))"
      ],
      "metadata": {
        "colab": {
          "base_uri": "https://localhost:8080/"
        },
        "id": "lVyB0XHEbEwC",
        "outputId": "aab04428-c3de-4896-d232-c3416e69cd53"
      },
      "id": "lVyB0XHEbEwC",
      "execution_count": 43,
      "outputs": [
        {
          "output_type": "stream",
          "name": "stdout",
          "text": [
            "Accuracy of logistic regression without regularization:  0.8536990856192851\n",
            "              precision    recall  f1-score   support\n",
            "\n",
            "           0       0.96      0.95      0.95       116\n",
            "           1       0.92      0.96      0.94       136\n",
            "           2       0.81      0.82      0.82       125\n",
            "           3       0.76      0.82      0.79       121\n",
            "           4       0.86      0.86      0.86       119\n",
            "           5       0.74      0.69      0.71       109\n",
            "           6       0.91      0.86      0.88       114\n",
            "           7       0.88      0.91      0.90       122\n",
            "           8       0.79      0.77      0.78       118\n",
            "           9       0.89      0.88      0.89       123\n",
            "\n",
            "    accuracy                           0.85      1203\n",
            "   macro avg       0.85      0.85      0.85      1203\n",
            "weighted avg       0.85      0.85      0.85      1203\n",
            "\n"
          ]
        }
      ]
    },
    {
      "cell_type": "code",
      "source": [
        "ConfusionMatrixDisplay(cm_logReg_rnd_100, display_labels=range(10)).plot()"
      ],
      "metadata": {
        "colab": {
          "base_uri": "https://localhost:8080/",
          "height": 466
        },
        "id": "tRof7N6kbQmF",
        "outputId": "34de6b37-f907-4677-a8a3-b2a19a235578"
      },
      "id": "tRof7N6kbQmF",
      "execution_count": 44,
      "outputs": [
        {
          "output_type": "execute_result",
          "data": {
            "text/plain": [
              "<sklearn.metrics._plot.confusion_matrix.ConfusionMatrixDisplay at 0x79fe00a820f0>"
            ]
          },
          "metadata": {},
          "execution_count": 44
        },
        {
          "output_type": "display_data",
          "data": {
            "text/plain": [
              "<Figure size 640x480 with 2 Axes>"
            ],
            "image/png": "[encoded data removed]"
          },
          "metadata": {}
        }
      ]
    },
    {
      "cell_type": "markdown",
      "source": [
        "### Logistic Regression (with L1 Regularization)"
      ],
      "metadata": {
        "id": "zVpBgrpGb297"
      },
      "id": "zVpBgrpGb297"
    },
    {
      "cell_type": "code",
      "source": [
        "best_model_rnd_100 = []\n",
        "best_accuracy_rnd_100 = 0\n",
        "for c_value in C_list:\n",
        "\tlogisticReg_rnd_100 = LogisticRegression(penalty='l1', solver='saga', max_iter=2000, random_state=random_state, C=c_value)\n",
        "\tlogisticReg_rnd_100.fit(X_train_rnd_100, y_train)\n",
        "\tY_pred,accuracy,cm = test_model(logisticReg_rnd_100, X_val_rnd_100, y_val)\n",
        "\tif accuracy>best_accuracy_rnd_100 +eps:\n",
        "\t\tbest_accuracy_rnd_100=accuracy\n",
        "\t\tbest_model_rnd_100 = [Y_pred,accuracy,cm,c_value]\n",
        "print(\"Accuracy of best model: \",best_model_rnd_100[1])\n",
        "print(\"C value of best model: \",best_model_rnd_100[3])"
      ],
      "metadata": {
        "colab": {
          "base_uri": "https://localhost:8080/"
        },
        "id": "ArcCjNUhbb2E",
        "outputId": "e4af0c21-03d3-455f-a5fe-2565b4ccf38b"
      },
      "id": "ArcCjNUhbb2E",
      "execution_count": 45,
      "outputs": [
        {
          "output_type": "stream",
          "name": "stdout",
          "text": [
            "Accuracy of best model:  0.8595178719866999\n",
            "C value of best model:  1.0\n"
          ]
        }
      ]
    },
    {
      "cell_type": "code",
      "source": [
        "print(\"Accuracy of logistic regression with L1 regularization: \", best_model_rnd_100[1])\n",
        "print(classification_report(y_val, best_model_rnd_100[0], target_names=[str(i) for i in range(10)]))"
      ],
      "metadata": {
        "colab": {
          "base_uri": "https://localhost:8080/"
        },
        "id": "LVeHkNi0cgxd",
        "outputId": "282abee9-cc66-4083-e91b-15b8556fe8d4"
      },
      "id": "LVeHkNi0cgxd",
      "execution_count": 46,
      "outputs": [
        {
          "output_type": "stream",
          "name": "stdout",
          "text": [
            "Accuracy of logistic regression with L1 regularization:  0.8595178719866999\n",
            "              precision    recall  f1-score   support\n",
            "\n",
            "           0       0.94      0.96      0.95       116\n",
            "           1       0.91      0.94      0.92       136\n",
            "           2       0.84      0.87      0.86       125\n",
            "           3       0.78      0.81      0.79       121\n",
            "           4       0.88      0.87      0.87       119\n",
            "           5       0.75      0.71      0.73       109\n",
            "           6       0.94      0.89      0.91       114\n",
            "           7       0.86      0.90      0.88       122\n",
            "           8       0.79      0.78      0.78       118\n",
            "           9       0.91      0.85      0.88       123\n",
            "\n",
            "    accuracy                           0.86      1203\n",
            "   macro avg       0.86      0.86      0.86      1203\n",
            "weighted avg       0.86      0.86      0.86      1203\n",
            "\n"
          ]
        }
      ]
    },
    {
      "cell_type": "code",
      "source": [
        "ConfusionMatrixDisplay(best_model_rnd_100[2], display_labels=range(10)).plot()"
      ],
      "metadata": {
        "colab": {
          "base_uri": "https://localhost:8080/",
          "height": 466
        },
        "id": "dUVlIHb-cunA",
        "outputId": "0253b64d-18b3-4f48-c47e-c72a027d0cd3"
      },
      "id": "dUVlIHb-cunA",
      "execution_count": 47,
      "outputs": [
        {
          "output_type": "execute_result",
          "data": {
            "text/plain": [
              "<sklearn.metrics._plot.confusion_matrix.ConfusionMatrixDisplay at 0x79fe00629490>"
            ]
          },
          "metadata": {},
          "execution_count": 47
        },
        {
          "output_type": "display_data",
          "data": {
            "text/plain": [
              "<Figure size 640x480 with 2 Axes>"
            ],
            "image/png": "[encoded data removed]"
          },
          "metadata": {}
        }
      ]
    },
    {
      "cell_type": "markdown",
      "source": [
        "### Linear Support Vector Machine"
      ],
      "metadata": {
        "id": "3URh46JXc_6e"
      },
      "id": "3URh46JXc_6e"
    },
    {
      "cell_type": "code",
      "source": [
        "linear_svc.fit(X_train_rnd_100, y_train)\n",
        "y_pred_linSVC_rnd_100, accuracy_linSVC_rnd_100, cm_linSVC_rnd_100 = test_model(linear_svc, X_val_rnd_100, y_val)"
      ],
      "metadata": {
        "id": "zXC1ucwLdHbW"
      },
      "id": "zXC1ucwLdHbW",
      "execution_count": 48,
      "outputs": []
    },
    {
      "cell_type": "code",
      "source": [
        "print(\"Accuracy of linear support vector machine: \", accuracy_linSVC_rnd_100)\n",
        "print(classification_report(y_val, y_pred_linSVC_rnd_100, target_names=[str(i) for i in range(10)]))"
      ],
      "metadata": {
        "colab": {
          "base_uri": "https://localhost:8080/"
        },
        "id": "zy6bF8apdS7T",
        "outputId": "d6a0b845-13c5-4573-8acc-53c0d1a7bc25"
      },
      "id": "zy6bF8apdS7T",
      "execution_count": 49,
      "outputs": [
        {
          "output_type": "stream",
          "name": "stdout",
          "text": [
            "Accuracy of linear support vector machine:  0.8478802992518704\n",
            "              precision    recall  f1-score   support\n",
            "\n",
            "           0       0.93      0.97      0.95       116\n",
            "           1       0.90      0.96      0.93       136\n",
            "           2       0.85      0.87      0.86       125\n",
            "           3       0.78      0.80      0.79       121\n",
            "           4       0.85      0.86      0.85       119\n",
            "           5       0.74      0.69      0.71       109\n",
            "           6       0.89      0.87      0.88       114\n",
            "           7       0.85      0.90      0.87       122\n",
            "           8       0.80      0.75      0.78       118\n",
            "           9       0.87      0.79      0.83       123\n",
            "\n",
            "    accuracy                           0.85      1203\n",
            "   macro avg       0.85      0.85      0.84      1203\n",
            "weighted avg       0.85      0.85      0.85      1203\n",
            "\n"
          ]
        }
      ]
    },
    {
      "cell_type": "code",
      "source": [
        "ConfusionMatrixDisplay(cm_linSVC_rnd_100, display_labels=range(10)).plot()"
      ],
      "metadata": {
        "colab": {
          "base_uri": "https://localhost:8080/",
          "height": 466
        },
        "id": "Tf7U-QJ8dbxd",
        "outputId": "f318efed-8cf7-499d-bb52-2363d2f63420"
      },
      "id": "Tf7U-QJ8dbxd",
      "execution_count": 50,
      "outputs": [
        {
          "output_type": "execute_result",
          "data": {
            "text/plain": [
              "<sklearn.metrics._plot.confusion_matrix.ConfusionMatrixDisplay at 0x79fe003c0920>"
            ]
          },
          "metadata": {},
          "execution_count": 50
        },
        {
          "output_type": "display_data",
          "data": {
            "text/plain": [
              "<Figure size 640x480 with 2 Axes>"
            ],
            "image/png": "[encoded data removed]"
          },
          "metadata": {}
        }
      ]
    },
    {
      "cell_type": "markdown",
      "source": [
        "### Random Forest"
      ],
      "metadata": {
        "id": "D8uWArvkeOUF"
      },
      "id": "D8uWArvkeOUF"
    },
    {
      "cell_type": "code",
      "source": [
        "randomForest.fit(X_train_rnd_100,y_train)\n",
        "y_pred_rf_rnd_100, accuracy_rf_rnd_100, cm_rf_rnd_100 = test_model(randomForest, X_val_rnd_100, y_val)"
      ],
      "metadata": {
        "id": "Q6LQbYsEeQWQ"
      },
      "id": "Q6LQbYsEeQWQ",
      "execution_count": 51,
      "outputs": []
    },
    {
      "cell_type": "code",
      "source": [
        "print(\"Accuracy of random forest classifier: \", accuracy_rf_rnd_100)\n",
        "print(classification_report(y_val, y_pred_rf_rnd_100, target_names=[str(i) for i in range(10)]))"
      ],
      "metadata": {
        "colab": {
          "base_uri": "https://localhost:8080/"
        },
        "id": "ixYJ3jn2ebo2",
        "outputId": "b0e37fb2-d281-4306-bf1f-9f03ba34f52b"
      },
      "id": "ixYJ3jn2ebo2",
      "execution_count": 52,
      "outputs": [
        {
          "output_type": "stream",
          "name": "stdout",
          "text": [
            "Accuracy of random forest classifier:  0.912718204488778\n",
            "              precision    recall  f1-score   support\n",
            "\n",
            "           0       0.93      0.96      0.94       116\n",
            "           1       0.97      0.98      0.97       136\n",
            "           2       0.90      0.92      0.91       125\n",
            "           3       0.84      0.88      0.86       121\n",
            "           4       0.93      0.96      0.95       119\n",
            "           5       0.95      0.75      0.84       109\n",
            "           6       0.92      0.94      0.93       114\n",
            "           7       0.90      0.92      0.91       122\n",
            "           8       0.90      0.88      0.89       118\n",
            "           9       0.89      0.92      0.90       123\n",
            "\n",
            "    accuracy                           0.91      1203\n",
            "   macro avg       0.91      0.91      0.91      1203\n",
            "weighted avg       0.91      0.91      0.91      1203\n",
            "\n"
          ]
        }
      ]
    },
    {
      "cell_type": "code",
      "source": [
        "ConfusionMatrixDisplay(cm_rf_rnd_100, display_labels=range(10)).plot()"
      ],
      "metadata": {
        "colab": {
          "base_uri": "https://localhost:8080/",
          "height": 466
        },
        "id": "4irvaMOMemSl",
        "outputId": "53a46af2-b7c7-4c61-91fe-3eca7880489a"
      },
      "id": "4irvaMOMemSl",
      "execution_count": 56,
      "outputs": [
        {
          "output_type": "execute_result",
          "data": {
            "text/plain": [
              "<sklearn.metrics._plot.confusion_matrix.ConfusionMatrixDisplay at 0x79fe00193cb0>"
            ]
          },
          "metadata": {},
          "execution_count": 56
        },
        {
          "output_type": "display_data",
          "data": {
            "text/plain": [
              "<Figure size 640x480 with 2 Axes>"
            ],
            "image/png": "[encoded data removed]"
          },
          "metadata": {}
        }
      ]
    },
    {
      "cell_type": "markdown",
      "source": [
        "### Multi-Layer Perceptron (Fully Connected Neural Network)"
      ],
      "metadata": {
        "id": "bxPPlcF2e7JK"
      },
      "id": "bxPPlcF2e7JK"
    },
    {
      "cell_type": "code",
      "source": [
        "mlp.fit(X_train_rnd_100,y_train)\n",
        "y_pred_mlp_rnd_100, accuracy_mlp_rnd_100, cm_mlp_rnd_100 = test_model(mlp,X_val_rnd_100,y_val)"
      ],
      "metadata": {
        "colab": {
          "base_uri": "https://localhost:8080/"
        },
        "id": "JYJvi-due2nM",
        "outputId": "eb82daee-f2b5-4004-98cf-cf978eb2d381"
      },
      "id": "JYJvi-due2nM",
      "execution_count": 57,
      "outputs": [
        {
          "output_type": "stream",
          "name": "stdout",
          "text": [
            "Iteration 1, loss = 1.13050926\n",
            "Iteration 2, loss = 0.52247431\n",
            "Iteration 3, loss = 0.41981724\n",
            "Iteration 4, loss = 0.36117062\n",
            "Iteration 5, loss = 0.31563201\n",
            "Iteration 6, loss = 0.27607170\n",
            "Iteration 7, loss = 0.25024775\n",
            "Iteration 8, loss = 0.22653563\n",
            "Iteration 9, loss = 0.20112534\n",
            "Iteration 10, loss = 0.18746660\n",
            "Iteration 11, loss = 0.16107499\n",
            "Iteration 12, loss = 0.14685548\n",
            "Iteration 13, loss = 0.12944907\n",
            "Iteration 14, loss = 0.12360600\n",
            "Iteration 15, loss = 0.11016115\n",
            "Iteration 16, loss = 0.09798429\n",
            "Iteration 17, loss = 0.08718595\n",
            "Iteration 18, loss = 0.07724960\n",
            "Iteration 19, loss = 0.07424839\n",
            "Iteration 20, loss = 0.06179110\n",
            "Iteration 21, loss = 0.05858560\n",
            "Iteration 22, loss = 0.05236334\n",
            "Iteration 23, loss = 0.04755192\n",
            "Iteration 24, loss = 0.03819444\n",
            "Iteration 25, loss = 0.03618573\n",
            "Iteration 26, loss = 0.03025161\n",
            "Iteration 27, loss = 0.02962905\n",
            "Iteration 28, loss = 0.02462807\n",
            "Iteration 29, loss = 0.02158238\n",
            "Iteration 30, loss = 0.01758153\n",
            "Iteration 31, loss = 0.01537948\n",
            "Iteration 32, loss = 0.01501503\n",
            "Iteration 33, loss = 0.01361310\n",
            "Iteration 34, loss = 0.01202262\n",
            "Iteration 35, loss = 0.01119602\n",
            "Iteration 36, loss = 0.00905053\n",
            "Iteration 37, loss = 0.00780279\n",
            "Iteration 38, loss = 0.00740374\n",
            "Iteration 39, loss = 0.00703886\n",
            "Iteration 40, loss = 0.00739273\n",
            "Iteration 41, loss = 0.00574761\n",
            "Iteration 42, loss = 0.00605208\n",
            "Iteration 43, loss = 0.00540728\n",
            "Iteration 44, loss = 0.00560416\n",
            "Iteration 45, loss = 0.00434572\n",
            "Iteration 46, loss = 0.00391343\n",
            "Iteration 47, loss = 0.00399555\n",
            "Iteration 48, loss = 0.00387051\n",
            "Iteration 49, loss = 0.00320762\n",
            "Iteration 50, loss = 0.00346978\n"
          ]
        },
        {
          "output_type": "stream",
          "name": "stderr",
          "text": [
            "/usr/local/lib/python3.12/dist-packages/sklearn/neural_network/_multilayer_perceptron.py:691: ConvergenceWarning: Stochastic Optimizer: Maximum iterations (50) reached and the optimization hasn't converged yet.\n",
            "  warnings.warn(\n"
          ]
        }
      ]
    },
    {
      "cell_type": "code",
      "source": [
        "print(\"Accuracy of fully connected neural network: \", accuracy_mlp_rnd_100)\n",
        "print(classification_report(y_val, y_pred_mlp_rnd_100, target_names=[str(i) for i in range(10)]))"
      ],
      "metadata": {
        "colab": {
          "base_uri": "https://localhost:8080/"
        },
        "id": "EVVu7SH0fQgF",
        "outputId": "c971625b-5f6d-4c91-e053-e569d71608a5"
      },
      "id": "EVVu7SH0fQgF",
      "execution_count": 58,
      "outputs": [
        {
          "output_type": "stream",
          "name": "stdout",
          "text": [
            "Accuracy of fully connected neural network:  0.9310058187863675\n",
            "              precision    recall  f1-score   support\n",
            "\n",
            "           0       0.97      0.96      0.97       116\n",
            "           1       0.94      0.99      0.96       136\n",
            "           2       0.89      0.97      0.93       125\n",
            "           3       0.92      0.93      0.92       121\n",
            "           4       0.97      0.95      0.96       119\n",
            "           5       0.94      0.85      0.89       109\n",
            "           6       0.96      0.94      0.95       114\n",
            "           7       0.92      0.93      0.92       122\n",
            "           8       0.88      0.88      0.88       118\n",
            "           9       0.93      0.91      0.92       123\n",
            "\n",
            "    accuracy                           0.93      1203\n",
            "   macro avg       0.93      0.93      0.93      1203\n",
            "weighted avg       0.93      0.93      0.93      1203\n",
            "\n"
          ]
        }
      ]
    },
    {
      "cell_type": "code",
      "source": [
        "ConfusionMatrixDisplay(cm_mlp_rnd_100, display_labels=range(10)).plot()"
      ],
      "metadata": {
        "colab": {
          "base_uri": "https://localhost:8080/",
          "height": 466
        },
        "id": "nuREuBI6fdgV",
        "outputId": "62e75fbe-361d-457e-ba81-96b1815c4bb8"
      },
      "id": "nuREuBI6fdgV",
      "execution_count": 59,
      "outputs": [
        {
          "output_type": "execute_result",
          "data": {
            "text/plain": [
              "<sklearn.metrics._plot.confusion_matrix.ConfusionMatrixDisplay at 0x79fe0016fda0>"
            ]
          },
          "metadata": {},
          "execution_count": 59
        },
        {
          "output_type": "display_data",
          "data": {
            "text/plain": [
              "<Figure size 640x480 with 2 Axes>"
            ],
            "image/png": "[encoded data removed]"
          },
          "metadata": {}
        }
      ]
    },
    {
      "cell_type": "markdown",
      "source": [
        "## Model Training (using Variance-Based Sampling)\n",
        "Checking how selection of 100 features based on variance affects classification accuracy."
      ],
      "metadata": {
        "id": "sUEUG5NGgOB-"
      },
      "id": "sUEUG5NGgOB-"
    },
    {
      "cell_type": "code",
      "source": [
        "high_variance_features = select_features_variance(X_train, n_features=100)\n",
        "X_train_var_100, X_val_var_100, X_test_var_100 = apply_feature_selection(X_train, X_val, X_test, high_variance_features)"
      ],
      "metadata": {
        "colab": {
          "base_uri": "https://localhost:8080/"
        },
        "id": "t7UtRPzsfnej",
        "outputId": "5da132d7-661b-49d6-9673-14f8e4d7679c"
      },
      "id": "t7UtRPzsfnej",
      "execution_count": 61,
      "outputs": [
        {
          "output_type": "stream",
          "name": "stdout",
          "text": [
            "Selected top 100 features by variance\n",
            "Applied feature selection. New feature dimension: 100\n"
          ]
        }
      ]
    },
    {
      "cell_type": "markdown",
      "source": [
        "### Logistic Regression (No Penalty)"
      ],
      "metadata": {
        "id": "m0kl5X8LhVL5"
      },
      "id": "m0kl5X8LhVL5"
    },
    {
      "cell_type": "code",
      "source": [
        "logisticReg.fit(X_train_var_100, y_train)\n",
        "y_pred_logReg_var_100, accuracy_logReg_var_100, cm_logReg_var_100 = test_model(logisticReg, X_val_var_100, y_val)"
      ],
      "metadata": {
        "id": "ZfvT_brxhZe6"
      },
      "execution_count": 62,
      "outputs": [],
      "id": "ZfvT_brxhZe6"
    },
    {
      "cell_type": "code",
      "source": [
        "print(\"Accuracy of logistic regression without regularization: \", accuracy_logReg_var_100)\n",
        "print(classification_report(y_val, y_pred_logReg_var_100, target_names=[str(i) for i in range(10)]))"
      ],
      "metadata": {
        "colab": {
          "base_uri": "https://localhost:8080/"
        },
        "id": "tBcGFyzmhnM8",
        "outputId": "c3eb893b-5faa-45cc-d2cd-a141dcf565e9"
      },
      "id": "tBcGFyzmhnM8",
      "execution_count": 63,
      "outputs": [
        {
          "output_type": "stream",
          "name": "stdout",
          "text": [
            "Accuracy of logistic regression without regularization:  0.7980049875311721\n",
            "              precision    recall  f1-score   support\n",
            "\n",
            "           0       0.90      0.92      0.91       116\n",
            "           1       0.90      0.94      0.92       136\n",
            "           2       0.74      0.73      0.73       125\n",
            "           3       0.76      0.79      0.77       121\n",
            "           4       0.81      0.81      0.81       119\n",
            "           5       0.69      0.70      0.69       109\n",
            "           6       0.88      0.87      0.87       114\n",
            "           7       0.74      0.78      0.76       122\n",
            "           8       0.78      0.69      0.74       118\n",
            "           9       0.76      0.74      0.75       123\n",
            "\n",
            "    accuracy                           0.80      1203\n",
            "   macro avg       0.80      0.80      0.80      1203\n",
            "weighted avg       0.80      0.80      0.80      1203\n",
            "\n"
          ]
        }
      ]
    },
    {
      "cell_type": "code",
      "source": [
        "ConfusionMatrixDisplay(cm_logReg_var_100, display_labels=range(10)).plot()"
      ],
      "metadata": {
        "colab": {
          "base_uri": "https://localhost:8080/",
          "height": 466
        },
        "id": "1NidYCsVhu4c",
        "outputId": "2e3b65ce-6ff2-4cb4-d849-79e86338d778"
      },
      "id": "1NidYCsVhu4c",
      "execution_count": 64,
      "outputs": [
        {
          "output_type": "execute_result",
          "data": {
            "text/plain": [
              "<sklearn.metrics._plot.confusion_matrix.ConfusionMatrixDisplay at 0x79fdf9e8c320>"
            ]
          },
          "metadata": {},
          "execution_count": 64
        },
        {
          "output_type": "display_data",
          "data": {
            "text/plain": [
              "<Figure size 640x480 with 2 Axes>"
            ],
            "image/png": "[encoded data removed]"
          },
          "metadata": {}
        }
      ]
    },
    {
      "cell_type": "markdown",
      "source": [
        "### Logistic Regression (with L1 Regularization)"
      ],
      "metadata": {
        "id": "AoDk-8Buh4yy"
      },
      "id": "AoDk-8Buh4yy"
    },
    {
      "cell_type": "code",
      "source": [
        "best_model_var_100 = []\n",
        "best_accuracy_var_100 = 0\n",
        "for c_value in C_list:\n",
        "\tlogisticReg_var_100 = LogisticRegression(penalty='l1', solver='saga', max_iter=2000, random_state=random_state, C=c_value)\n",
        "\tlogisticReg_var_100.fit(X_train_var_100, y_train)\n",
        "\tY_pred,accuracy,cm = test_model(logisticReg_var_100, X_val_var_100, y_val)\n",
        "\tif accuracy>best_accuracy_var_100 +eps:\n",
        "\t\tbest_accuracy_var_100=accuracy\n",
        "\t\tbest_model_var_100 = [Y_pred,accuracy,cm,c_value]\n",
        "print(\"Accuracy of best model: \",best_model_var_100[1])\n",
        "print(\"C value of best model: \",best_model_var_100[3])"
      ],
      "metadata": {
        "colab": {
          "base_uri": "https://localhost:8080/"
        },
        "id": "wgypu9XKiTtr",
        "outputId": "ea91e3c8-1fb0-4226-ee1e-930356ab88b6"
      },
      "id": "wgypu9XKiTtr",
      "execution_count": 66,
      "outputs": [
        {
          "output_type": "stream",
          "name": "stdout",
          "text": [
            "[2025-10-22 10:51:41.960] [CUML] [warning] QWL-QN: max iterations reached\n",
            "[2025-10-22 10:51:41.961] [CUML] [warning] Maximum iterations reached before solver is converged. To increase model accuracy you can increase the number of iterations (max_iter) or improve the scaling of the input data.\n",
            "Accuracy of best model:  0.8071487946799667\n",
            "C value of best model:  1.0\n"
          ]
        }
      ]
    },
    {
      "cell_type": "code",
      "source": [],
      "metadata": {
        "id": "9v9k7SrBiuVj"
      },
      "id": "9v9k7SrBiuVj",
      "execution_count": null,
      "outputs": []
    }
  ],
  "metadata": {
    "colab": {
      "provenance": [],
      "gpuType": "T4"
    },
    "kernelspec": {
      "display_name": "Python 3",
      "name": "python3"
    },
    "language_info": {
      "codemirror_mode": {
        "name": "ipython",
        "version": 3
      },
      "file_extension": ".py",
      "mimetype": "text/x-python",
      "name": "python",
      "nbconvert_exporter": "python",
      "pygments_lexer": "ipython3",
      "version": "3.13.5"
    },
    "accelerator": "GPU"
  },
  "nbformat": 4,
  "nbformat_minor": 5
}